{
 "cells": [
  {
   "cell_type": "code",
   "execution_count": null,
   "id": "595c59f0-644a-4c18-98dc-e7e21feefba4",
   "metadata": {},
   "outputs": [],
   "source": [
    "#To define a Python script that fetches the web page contents and parses it using Beautiful Soup to generate a soup object.\n",
    "#You can use different selectors with the soup object to find elements on the web page and extract the desired information from it.\n",
    "#Dataset: Use URL as per your Faculty Suggests\n",
    "#EXAMPLE: http://quotes.toscrape.com"
   ]
  },
  {
   "cell_type": "code",
   "execution_count": 1,
   "id": "bdc49bc6-13aa-4ba7-bb8b-e036539be80e",
   "metadata": {},
   "outputs": [
    {
     "name": "stdout",
     "output_type": "stream",
     "text": [
      "Page fetched successfully!\n",
      "Quote: “The world as we have created it is a process of our thinking. It cannot be changed without changing our thinking.”\n",
      "Author: Albert Einstein\n",
      "--------------------------------------------------\n",
      "Quote: “It is our choices, Harry, that show what we truly are, far more than our abilities.”\n",
      "Author: J.K. Rowling\n",
      "--------------------------------------------------\n",
      "Quote: “There are only two ways to live your life. One is as though nothing is a miracle. The other is as though everything is a miracle.”\n",
      "Author: Albert Einstein\n",
      "--------------------------------------------------\n",
      "Quote: “The person, be it gentleman or lady, who has not pleasure in a good novel, must be intolerably stupid.”\n",
      "Author: Jane Austen\n",
      "--------------------------------------------------\n",
      "Quote: “Imperfection is beauty, madness is genius and it's better to be absolutely ridiculous than absolutely boring.”\n",
      "Author: Marilyn Monroe\n",
      "--------------------------------------------------\n",
      "Quote: “Try not to become a man of success. Rather become a man of value.”\n",
      "Author: Albert Einstein\n",
      "--------------------------------------------------\n",
      "Quote: “It is better to be hated for what you are than to be loved for what you are not.”\n",
      "Author: André Gide\n",
      "--------------------------------------------------\n",
      "Quote: “I have not failed. I've just found 10,000 ways that won't work.”\n",
      "Author: Thomas A. Edison\n",
      "--------------------------------------------------\n",
      "Quote: “A woman is like a tea bag; you never know how strong it is until it's in hot water.”\n",
      "Author: Eleanor Roosevelt\n",
      "--------------------------------------------------\n",
      "Quote: “A day without sunshine is like, you know, night.”\n",
      "Author: Steve Martin\n",
      "--------------------------------------------------\n",
      "Quotes and authors have been saved to 'quotes.csv'.\n"
     ]
    }
   ],
   "source": [
    "import requests\n",
    "from bs4 import BeautifulSoup\n",
    "\n",
    "# Step 1: Fetch the web page content\n",
    "url = \"http://quotes.toscrape.com\"\n",
    "response = requests.get(url)\n",
    "\n",
    "# Check if the request was successful\n",
    "if response.status_code == 200:\n",
    "    print(\"Page fetched successfully!\")\n",
    "else:\n",
    "    print(\"Failed to fetch the page.\")\n",
    "\n",
    "# Step 2: Parse the content using BeautifulSoup\n",
    "soup = BeautifulSoup(response.text, \"html.parser\")\n",
    "\n",
    "# Step 3: Extracting desired information (quotes and authors)\n",
    "# Here, we'll extract the quote text and the author names from the page.\n",
    "quotes = soup.find_all(\"span\", class_=\"text\")  # Extracting all quote text elements\n",
    "authors = soup.find_all(\"small\", class_=\"author\")  # Extracting author names\n",
    "\n",
    "# Step 4: Display extracted data\n",
    "for quote, author in zip(quotes, authors):\n",
    "    print(f\"Quote: {quote.text}\")\n",
    "    print(f\"Author: {author.text}\")\n",
    "    print(\"-\" * 50)  # Separator\n",
    "\n",
    "# Step 5: Optional - You can save the data to a CSV file or process further\n",
    "# Here is an example of saving the quotes and authors to a CSV file:\n",
    "\n",
    "import csv\n",
    "\n",
    "# Open a CSV file in write mode\n",
    "with open('quotes.csv', 'w', newline='', encoding='utf-8') as csvfile:\n",
    "    fieldnames = ['Quote', 'Author']\n",
    "    writer = csv.DictWriter(csvfile, fieldnames=fieldnames)\n",
    "    \n",
    "    # Write the header\n",
    "    writer.writeheader()\n",
    "    \n",
    "    # Write the quote-author pairs\n",
    "    for quote, author in zip(quotes, authors):\n",
    "        writer.writerow({'Quote': quote.text, 'Author': author.text})\n",
    "\n",
    "print(\"Quotes and authors have been saved to 'quotes.csv'.\")\n"
   ]
  },
  {
   "cell_type": "code",
   "execution_count": null,
   "id": "af2b8866-8153-4b47-9b73-b997e6100557",
   "metadata": {},
   "outputs": [],
   "source": []
  }
 ],
 "metadata": {
  "kernelspec": {
   "display_name": "Python 3 (ipykernel)",
   "language": "python",
   "name": "python3"
  },
  "language_info": {
   "codemirror_mode": {
    "name": "ipython",
    "version": 3
   },
   "file_extension": ".py",
   "mimetype": "text/x-python",
   "name": "python",
   "nbconvert_exporter": "python",
   "pygments_lexer": "ipython3",
   "version": "3.12.4"
  }
 },
 "nbformat": 4,
 "nbformat_minor": 5
}
