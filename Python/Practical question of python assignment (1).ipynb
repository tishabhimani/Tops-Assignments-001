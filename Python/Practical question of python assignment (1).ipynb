{
 "cells": [
  {
   "cell_type": "code",
   "execution_count": 15,
   "id": "decdfbce-33e1-4b7d-a981-c4bea762a1a2",
   "metadata": {},
   "outputs": [
    {
     "name": "stdin",
     "output_type": "stream",
     "text": [
      "Enter Your Number Here:  -53\n"
     ]
    },
    {
     "name": "stdout",
     "output_type": "stream",
     "text": [
      "Number is Negative\n"
     ]
    }
   ],
   "source": [
    "# Q.4 Write a Python program to check if a number is positive, negative or zero.\n",
    "number = int(input(\"Enter Your Number Here: \"))\n",
    "if number >0:\n",
    "    print(\"Number is positive\")\n",
    "if number <0:\n",
    "    print(\"Number is Negative\")\n",
    "if number == 0:\n",
    "    print(\"Number is Zero\")\n",
    "\n"
   ]
  },
  {
   "cell_type": "code",
   "execution_count": 1,
   "id": "ea2d84da-c034-4be4-a524-a268d35352b5",
   "metadata": {},
   "outputs": [
    {
     "name": "stdin",
     "output_type": "stream",
     "text": [
      "Enter a number to find its factorial:  65\n"
     ]
    },
    {
     "name": "stdout",
     "output_type": "stream",
     "text": [
      "The factorial of 65 is 8247650592082470666723170306785496252186258551345437492922123134388955774976000000000000000.\n"
     ]
    }
   ],
   "source": [
    "### Q.5 Write a Python program to get the Factorial number of given numbers. \n",
    "# Function to calculate factorial\n",
    "def factorial(n):\n",
    "    # Base case: factorial of 0 or 1 is 1\n",
    "    if n == 0 or n == 1:\n",
    "        return 1\n",
    "    else:\n",
    "        # Recursive case: n * factorial of (n-1)\n",
    "        return n * factorial(n - 1)\n",
    "\n",
    "# Get user input\n",
    "num = int(input(\"Enter a number to find its factorial: \"))\n",
    "\n",
    "# Calculate and display the factorial\n",
    "if num < 0:\n",
    "    print(\"Factorial is not defined for negative numbers.\")\n",
    "else:\n",
    "    print(f\"The factorial of {num} is {factorial(num)}.\")"
   ]
  },
  {
   "cell_type": "code",
   "execution_count": 3,
   "id": "574ed262-5825-4ef0-ae22-c123ab1e399e",
   "metadata": {},
   "outputs": [
    {
     "name": "stdin",
     "output_type": "stream",
     "text": [
      "Enter the number of terms in the Fibonacci series:  56\n"
     ]
    },
    {
     "name": "stdout",
     "output_type": "stream",
     "text": [
      "Fibonacci series up to 56 terms:\n",
      "0 1 1 2 3 5 8 13 21 34 55 89 144 233 377 610 987 1597 2584 4181 6765 10946 17711 28657 46368 75025 121393 196418 317811 514229 832040 1346269 2178309 3524578 5702887 9227465 14930352 24157817 39088169 63245986 102334155 165580141 267914296 433494437 701408733 1134903170 1836311903 2971215073 4807526976 7778742049 12586269025 20365011074 32951280099 53316291173 86267571272 139583862445 "
     ]
    }
   ],
   "source": [
    "### Q.6 Write a Python program to get the Fibonacci series of given range.\n",
    "# Function to print Fibonacci series up to a given range\n",
    "def fibonacci_series(n):\n",
    "    # First two numbers in the Fibonacci series\n",
    "    a, b = 0, 1\n",
    "    \n",
    "    # Print the Fibonacci series up to n terms\n",
    "    print(\"Fibonacci series up to\", n, \"terms:\")\n",
    "    for _ in range(n):\n",
    "        print(a, end=\" \")\n",
    "        a, b = b, a + b  # Update a and b for the next iteration\n",
    "\n",
    "# Get user input\n",
    "n = int(input(\"Enter the number of terms in the Fibonacci series: \"))\n",
    "\n",
    "# Display the Fibonacci series\n",
    "fibonacci_series(n)"
   ]
  },
  {
   "cell_type": "code",
   "execution_count": 5,
   "id": "a509602e-b517-4e86-b6e5-95421a2bcb28",
   "metadata": {},
   "outputs": [
    {
     "name": "stdin",
     "output_type": "stream",
     "text": [
      "Enter first number:  5\n",
      "Enter second number:  6\n"
     ]
    },
    {
     "name": "stdout",
     "output_type": "stream",
     "text": [
      "\n",
      "Swapping with a temporary variable:\n",
      "First number: 6\n",
      "Second number: 5\n",
      "\n",
      "Swapping without a temporary variable:\n",
      "First number: 5\n",
      "Second number: 6\n"
     ]
    }
   ],
   "source": [
    "### Q.9 Write python program that swap two number with temp variable and without temp variable.\n",
    "# Function to swap two numbers using a temporary variable\n",
    "def swap_with_temp(a, b):\n",
    "    # Using a temporary variable to swap\n",
    "    temp = a\n",
    "    a = b\n",
    "    b = temp\n",
    "    return a, b\n",
    "\n",
    "# Function to swap two numbers without using a temporary variable\n",
    "def swap_without_temp(a, b):\n",
    "    # Swapping without a temporary variable using tuple unpacking\n",
    "    a, b = b, a\n",
    "    return a, b\n",
    "\n",
    "# Input two numbers\n",
    "x = int(input(\"Enter first number: \"))\n",
    "y = int(input(\"Enter second number: \"))\n",
    "\n",
    "# Swap with temp variable\n",
    "print(\"\\nSwapping with a temporary variable:\")\n",
    "x, y = swap_with_temp(x, y)\n",
    "print(\"First number:\", x)\n",
    "print(\"Second number:\", y)\n",
    "\n",
    "# Swap without temp variable\n",
    "print(\"\\nSwapping without a temporary variable:\")\n",
    "x, y = swap_without_temp(x, y)\n",
    "print(\"First number:\", x)\n",
    "print(\"Second number:\", y)"
   ]
  },
  {
   "cell_type": "code",
   "execution_count": 10,
   "id": "bb14300a-e485-4b35-80e0-e728f201b73d",
   "metadata": {},
   "outputs": [
    {
     "name": "stdin",
     "output_type": "stream",
     "text": [
      "Enter your Number is Here:  5\n"
     ]
    },
    {
     "name": "stdout",
     "output_type": "stream",
     "text": [
      "Number is odd\n"
     ]
    }
   ],
   "source": [
    "# Q.10 Write a Python program to find whether a given number is even or odd, print out an appropriate message to the user.\n",
    "num = int(input(\"Enter your Number is Here: \"))\n",
    "if num%2==0:\n",
    "    print(\"Number is Even\")\n",
    "else:\n",
    "    print(\"Number is odd\")\n"
   ]
  },
  {
   "cell_type": "code",
   "execution_count": 16,
   "id": "8f79fcc7-71f6-4e9a-a58b-7b18c16c73ef",
   "metadata": {},
   "outputs": [
    {
     "name": "stdin",
     "output_type": "stream",
     "text": [
      "Enter Your Letter In Capital Here:  S\n"
     ]
    },
    {
     "name": "stdout",
     "output_type": "stream",
     "text": [
      "Your Letter Is Not Vowel\n"
     ]
    }
   ],
   "source": [
    "# Q.11 Write a Python program to test whether a passed letter is a vowel or not.\n",
    "letter = str(input(\"Enter Your Letter In Capital Here: \"))\n",
    "if letter in \"AEIOU\":\n",
    "   print(\"Your Letter Is Vowel\")\n",
    "else:\n",
    "   print(\"Your Letter Is Not Vowel\")\n",
    "\n",
    "\n"
   ]
  },
  {
   "cell_type": "code",
   "execution_count": 22,
   "id": "a7479931-6252-40ab-a406-d379db498add",
   "metadata": {},
   "outputs": [
    {
     "name": "stdin",
     "output_type": "stream",
     "text": [
      "Enter integer 1 Here:  25\n",
      "Enter integer 2 Here:  25\n",
      "Enter integer 3 Here:  47\n"
     ]
    },
    {
     "name": "stdout",
     "output_type": "stream",
     "text": [
      "Your integer sum is zero\n"
     ]
    }
   ],
   "source": [
    "# Q.12 Write a Python program to sum of three given integers. However, if two values are equal sum will be zero. \n",
    "integer1 =  int(input(\"Enter integer 1 Here: \"))\n",
    "integer2 =  int(input(\"Enter integer 2 Here: \"))\n",
    "integer3 =  int(input(\"Enter integer 3 Here: \"))\n",
    "if integer1==integer2 or integer1==integer3:\n",
    "    print(\"Your integer sum is zero\")\n",
    "else:\n",
    "    sum = integer1+integer2+integer3\n",
    "    print(\"Your integer sum is\",sum)\n"
   ]
  },
  {
   "cell_type": "code",
   "execution_count": 38,
   "id": "8f3bf07c-4d04-40df-8476-80a5b50b7f50",
   "metadata": {},
   "outputs": [
    {
     "name": "stdin",
     "output_type": "stream",
     "text": [
      "Enter integer 1 Here:  5\n",
      "Enter integer 2 Here:  5\n"
     ]
    },
    {
     "name": "stdout",
     "output_type": "stream",
     "text": [
      "True\n"
     ]
    }
   ],
   "source": [
    "# Q.13 Write a Python program that will return true if the two given integer values are equal or their sum or difference is 5.\n",
    "integer1 = int(input(\"Enter integer 1 Here: \"))\n",
    "integer2 = int(input(\"Enter integer 2 Here: \"))\n",
    "if integer1==integer2 or integer1+integer2==5 or integer1-integer2==5:\n",
    "    print(\"True\")\n",
    "else:\n",
    "    print(\"False\")\n"
   ]
  },
  {
   "cell_type": "code",
   "execution_count": 54,
   "id": "6371b506-b1e8-4f37-b20c-e9f6ffb81226",
   "metadata": {},
   "outputs": [
    {
     "name": "stdin",
     "output_type": "stream",
     "text": [
      "Enter Number 1 Here:  45\n",
      "Enter Number 2 Here:  45\n"
     ]
    },
    {
     "name": "stdout",
     "output_type": "stream",
     "text": [
      "Sum of 2 integer is 90\n"
     ]
    },
    {
     "name": "stdin",
     "output_type": "stream",
     "text": [
      "Input a number:  45\n"
     ]
    },
    {
     "name": "stdout",
     "output_type": "stream",
     "text": [
      "Sum of the first 45 positive integers: 1035.0\n"
     ]
    }
   ],
   "source": [
    "### Q.14 Write a python program to sum of the first n positive integers. \n",
    "num1 = int(input(\"Enter Number 1 Here: \"))\n",
    "num2 = int(input(\"Enter Number 2 Here: \"))\n",
    "sum = num1 + num2\n",
    "if sum >0:\n",
    "    print(\"Sum of 2 integer is\",sum)\n",
    "else:\n",
    "    print(\"\")\n",
    "\n",
    "\n",
    "\n",
    "#From goggle\n",
    "n = int(input(\"Input a number: \"))\n",
    "sum_num = (n * (n + 1)) / 2\n",
    "print(\"Sum of the first\", n, \"positive integers:\", sum_num)"
   ]
  },
  {
   "cell_type": "code",
   "execution_count": 70,
   "id": "01e1d4c8-d671-4a52-989c-3c5c7e94883c",
   "metadata": {},
   "outputs": [
    {
     "name": "stdin",
     "output_type": "stream",
     "text": [
      "Enter your sentence here:  I Am A Data Analyst \n"
     ]
    },
    {
     "name": "stdout",
     "output_type": "stream",
     "text": [
      "20\n"
     ]
    }
   ],
   "source": [
    "# Q.15 Write a Python program to calculate the length of a string. \n",
    "sentence = str(input(\"Enter your sentence here: \"))\n",
    "print(len(sentence))\n"
   ]
  },
  {
   "cell_type": "code",
   "execution_count": 19,
   "id": "4056ae10-26be-4c21-b67f-416896541f9b",
   "metadata": {},
   "outputs": [
    {
     "name": "stdout",
     "output_type": "stream",
     "text": [
      "data word repeated time is : 48\n"
     ]
    }
   ],
   "source": [
    "# Q.16 Write a Python program to count the number of characters (character frequency) in a string \n",
    "para = \"A data analyst's day is a whirlwind of numbers trends, and insights. They spend countless hours poring over datasets, searching for patterns and correlations. From analyzing customer behavior to predicting market trends, a data analyst's work is essential to making informed decisions. They use a variety of tools and techniques, such as SQL, Python, and statistical modeling, to extract meaningful information from raw data. Ultimately, their goal is to help businesses understand their data and make data-driven decisions that drive growth and success.\"\n",
    "data_to_count = \"a\"\n",
    "print(\"data word repeated time is :\", para.count(data_to_count))\n"
   ]
  },
  {
   "cell_type": "code",
   "execution_count": 17,
   "id": "dea1e2fa-8c23-41d5-b4b9-c6b5adc9e14b",
   "metadata": {},
   "outputs": [],
   "source": [
    "### Q.18 Write a Python program to count occurrences of a substring in a string. \n"
   ]
  },
  {
   "cell_type": "code",
   "execution_count": 23,
   "id": "07f36a0e-20a9-4e1f-b485-0e21dd6d1c46",
   "metadata": {},
   "outputs": [
    {
     "name": "stdout",
     "output_type": "stream",
     "text": [
      "data word repeated time is : 6\n"
     ]
    }
   ],
   "source": [
    "# Q.19 Write a Python program to count the occurrences of each word in  given sentence given sentence \n",
    "para1 = \"A data analyst's day is a whirlwind of numbers trends, and insights. They spend countless hours poring over datasets, searching for patterns and correlations. From analyzing customer behavior to predicting market trends, a data analyst's work is essential to making informed decisions. They use a variety of tools and techniques, such as SQL, Python, and statistical modeling, to extract meaningful information from raw data. Ultimately, their goal is to help businesses understand their data and make data-driven decisions that drive growth and success.\"\n",
    "data_to_count1 = \"data\"\n",
    "print(\"data word repeated time is :\", para1.count(data_to_count1))"
   ]
  },
  {
   "cell_type": "code",
   "execution_count": 9,
   "id": "52c46a6d-48fa-44de-80ec-f74b6c13ea9e",
   "metadata": {},
   "outputs": [
    {
     "name": "stdin",
     "output_type": "stream",
     "text": [
      "Enter the first string:  Tisha\n",
      "Enter the second string:  Dhruv\n"
     ]
    },
    {
     "name": "stdout",
     "output_type": "stream",
     "text": [
      "Resulting string: Dhsha Dhruv\n"
     ]
    }
   ],
   "source": [
    "# # Function to swap the first two characters of two strings\n",
    "def swap_first_two_chars(str1, str2):\n",
    "    # Swap the first two characters of each string\n",
    "    if len(str1) >= 2 and len(str2) >= 2:\n",
    "        # Swap the first two characters\n",
    "        str1 = str2[:2] + str1[2:]\n",
    "        str2 = str1[:2] + str2[2:]\n",
    "    else:\n",
    "        # If the strings are less than 2 characters, just return them as is\n",
    "        return str1, str2\n",
    "    return str1, str2\n",
    "\n",
    "# Input two strings\n",
    "string1 = input(\"Enter the first string: \")\n",
    "string2 = input(\"Enter the second string: \")\n",
    "\n",
    "# Swap the first two characters and combine them into a single string\n",
    "string1, string2 = swap_first_two_chars(string1, string2)\n",
    "\n",
    "# Combine the modified strings with a space in between\n",
    "result = string1 + \" \" + string2\n",
    "\n",
    "# Output the result\n",
    "print(\"Resulting string:\", result)"
   ]
  },
  {
   "cell_type": "code",
   "execution_count": 11,
   "id": "d59206c5-d695-455f-871d-8b7d0b003aad",
   "metadata": {},
   "outputs": [
    {
     "name": "stdout",
     "output_type": "stream",
     "text": [
      "Modified string: Tishain\n"
     ]
    }
   ],
   "source": [
    "### Q.21 Write a Python program to add 'in' at the end of a given string (length should be at least 3). If the given string already ends with 'ing' then add 'ly' instead if the string length of the given string is less than 3,leave it unchanged. \n",
    "# Input string\n",
    "string1 = \"Tisha\"\n",
    "\n",
    "# Check the length of the string\n",
    "if len(string1) >= 3:\n",
    "    # Check if the string ends with 'ing'\n",
    "    if string1.endswith('ing'):\n",
    "        string1 += 'ly'\n",
    "    else:\n",
    "        string1 += 'in'\n",
    "\n",
    "# Output the modified string\n",
    "print(\"Modified string:\", string1)"
   ]
  },
  {
   "cell_type": "code",
   "execution_count": 27,
   "id": "31304a11-d314-409b-8808-da6567098988",
   "metadata": {},
   "outputs": [
    {
     "name": "stdout",
     "output_type": "stream",
     "text": [
      "16\n",
      "This is a string\n"
     ]
    }
   ],
   "source": [
    "# Q.22 Write a Python function to reverses a string if its length is a multiple of 4.\n",
    "string = \"This is a string\"\n",
    "print(len(string))\n",
    "if (len(string))%4==0:\n",
    "    print(string)\n",
    " "
   ]
  },
  {
   "cell_type": "code",
   "execution_count": 15,
   "id": "af50e861-5d81-4491-9019-b356011d0e64",
   "metadata": {},
   "outputs": [
    {
     "name": "stdin",
     "output_type": "stream",
     "text": [
      "Enter a string:  Arunaben\n"
     ]
    },
    {
     "name": "stdout",
     "output_type": "stream",
     "text": [
      "Resulting string: Aren\n"
     ]
    }
   ],
   "source": [
    "### Q.23 Write a Python program to get a string made of the first 2 and the last 2 chars from a given a string. If the string length is less than 2, return instead of the empty string. \n",
    "# Function to get the first 2 and last 2 characters of the string\n",
    "def get_first_last_chars(string):\n",
    "    # Check if the length of the string is less than 2\n",
    "    if len(string) < 2:\n",
    "        return \"\"  # Return an empty string\n",
    "    else:\n",
    "        # Return the first 2 and last 2 characters concatenated\n",
    "        return string[:2] + string[-2:]\n",
    "\n",
    "# Input string\n",
    "string1 = input(\"Enter a string: \")\n",
    "\n",
    "# Get the desired string and print the result\n",
    "result = get_first_last_chars(string1)\n",
    "print(\"Resulting string:\", result)"
   ]
  },
  {
   "cell_type": "code",
   "execution_count": 25,
   "id": "32e177f8-75f2-45e9-b2ff-57b7574accbe",
   "metadata": {},
   "outputs": [
    {
     "name": "stdin",
     "output_type": "stream",
     "text": [
      "Enter the original string:  Tisha is  Analyst\n",
      "Enter the string to insert:  Data\n"
     ]
    },
    {
     "name": "stdout",
     "output_type": "stream",
     "text": [
      "Resulting string: Tisha isData  Analyst\n"
     ]
    }
   ],
   "source": [
    "#24)Write a Python function to insert a string in the middle of a string. \n",
    "# Function to insert a string in the middle of another string\n",
    "def insert_in_middle(original, to_insert):\n",
    "    # Find the middle index\n",
    "    middle_index = len(original) // 2\n",
    "    \n",
    "    # Insert the 'to_insert' string in the middle\n",
    "    result = original[:middle_index] + to_insert + original[middle_index:]\n",
    "    \n",
    "    return result\n",
    "\n",
    "# Input strings\n",
    "original_string = input(\"Enter the original string: \")\n",
    "insert_string = input(\"Enter the string to insert: \")\n",
    "\n",
    "# Call the function and display the result\n",
    "result_string = insert_in_middle(original_string, insert_string)\n",
    "print(\"Resulting string:\", result_string)"
   ]
  },
  {
   "cell_type": "code",
   "execution_count": 27,
   "id": "263766ca-1a0f-4b6d-b2a4-1d12d4ac674d",
   "metadata": {},
   "outputs": [
    {
     "name": "stdout",
     "output_type": "stream",
     "text": [
      "25\n"
     ]
    }
   ],
   "source": [
    "#27)Suppose list1 is [2, 33, 222, 14, and 25], what is list1 [-1]? \n",
    "list1 = [2, 33, 222, 14, 25]\n",
    "\n",
    "# Access the last element using index -1\n",
    "last_element = list1[-1]\n",
    "\n",
    "print(last_element)  # Output: 25"
   ]
  },
  {
   "cell_type": "code",
   "execution_count": 31,
   "id": "8b4b0e6e-8e7e-45e3-abc7-0e83a574816e",
   "metadata": {},
   "outputs": [
    {
     "name": "stdout",
     "output_type": "stream",
     "text": [
      "Largest number from the list =  8999\n",
      "smallest number from the list =  2\n",
      "sum of largest and smallest number from the list =  9001\n"
     ]
    }
   ],
   "source": [
    "#29) Write a Python function to get the largest number, smallest num and sum of all from a list. \n",
    "list_of_29 = [52,56,48,2,8999]\n",
    "def largest_smallest_totalsum(numbers):\n",
    "    largest = max(numbers)\n",
    "    smallest = min(numbers)\n",
    "    total_sum = sum(numbers)\n",
    "    return largest,smallest,total_sum\n",
    "largest, smallest, total_sum = largest_smallest_totalsum(list_of_29)\n",
    "sum = largest + smallest \n",
    "print(\"Largest number from the list = \",largest)\n",
    "print(\"smallest number from the list = \",smallest)\n",
    "print(\"sum of largest and smallest number from the list = \",sum)"
   ]
  },
  {
   "cell_type": "code",
   "execution_count": 33,
   "id": "a8ba3ece-d4f4-4fcc-8bbc-ce3beff4b546",
   "metadata": {},
   "outputs": [
    {
     "name": "stdout",
     "output_type": "stream",
     "text": [
      "list_of_30 & list_of_301 are same\n"
     ]
    }
   ],
   "source": [
    "#30)How will you compare two lists? \n",
    "list_of_30 = [1,2,3]\n",
    "list_of_301 = [1,2,3]\n",
    "if list_of_30 ==list_of_301:\n",
    "    print(\"list_of_30 & list_of_301 are same\")\n",
    "else:\n",
    "    print(\"list_of_30 & list_of_301 are not same\")"
   ]
  },
  {
   "cell_type": "code",
   "execution_count": 35,
   "id": "174dee22-314e-4708-9a09-52fb8e24527f",
   "metadata": {},
   "outputs": [
    {
     "name": "stdout",
     "output_type": "stream",
     "text": [
      "Number of strings where the length is 2 or more and the first and last characters are the same: 4\n"
     ]
    }
   ],
   "source": [
    "#31) Write a Python program to count the number of strings where the string length is 2 or more and the first and last character are same from a given list of strings.\n",
    "def count_strings(lst):\n",
    "    count = 0\n",
    "    for string in lst:\n",
    "        if len(string) >= 2 and string[0] == string[-1]:  # Check if length is 2 or more and first & last character are the same\n",
    "            count += 1\n",
    "    return count\n",
    "\n",
    "# Example list of strings\n",
    "list_of_strings = [\"aba\", \"xyz\", \"aa\", \"b\", \"abc\", \"ccc\", \"a\", \"radar\"]\n",
    "\n",
    "# Call the function and print the result\n",
    "result = count_strings(list_of_strings)\n",
    "print(\"Number of strings where the length is 2 or more and the first and last characters are the same:\", result)\n"
   ]
  },
  {
   "cell_type": "code",
   "execution_count": null,
   "id": "799e98f7-68ab-49b8-ad9e-1ced50072bff",
   "metadata": {},
   "outputs": [],
   "source": [
    "#32)Write a Python program to remove duplicates from a list.\n",
    "list_32 = [1,2,3,4,5]\n",
    "list_321 = [11,22,3,44,55]\n",
    "\n"
   ]
  },
  {
   "cell_type": "code",
   "execution_count": 43,
   "id": "8f4bb5ee-eff7-4542-928e-ddedc31aa648",
   "metadata": {},
   "outputs": [
    {
     "name": "stdout",
     "output_type": "stream",
     "text": [
      "List is Empty\n"
     ]
    }
   ],
   "source": [
    "#33)Write a Python program to check a list is empty or not. \n",
    "list_of_33 = []\n",
    "if list_of_33 == []:\n",
    "    print(\"List is Empty\")\n",
    "else:\n",
    "    print(\"List is not Empty\")\n"
   ]
  },
  {
   "cell_type": "code",
   "execution_count": 45,
   "id": "9893746f-1eec-4c84-9676-8d34ee75c833",
   "metadata": {},
   "outputs": [
    {
     "name": "stdout",
     "output_type": "stream",
     "text": [
      "List is Empty\n"
     ]
    }
   ],
   "source": [
    "#another way to find list is empty or not\n",
    "if len(list_of_33) == 0:\n",
    "    print(\"List is Empty\")\n",
    "else:\n",
    "    print(\"List is not Empty\")\n"
   ]
  },
  {
   "cell_type": "code",
   "execution_count": 47,
   "id": "54508db6-e80b-44e8-93ae-419677d699ff",
   "metadata": {},
   "outputs": [
    {
     "name": "stdout",
     "output_type": "stream",
     "text": [
      "There is at least one common member\n"
     ]
    }
   ],
   "source": [
    "#34) Write a Python function that takes two lists and returns true if they have at least one common member. \n",
    "list34 = [1, 2, 3, 4]\n",
    "list341= [4, 5, 6]\n",
    "\n",
    "# Check if there is at least one common member\n",
    "if any(item in list341 for item in list34):\n",
    "    print(\"There is at least one common member\")\n",
    "else:\n",
    "    print(\"No common members\")\n"
   ]
  },
  {
   "cell_type": "code",
   "execution_count": 49,
   "id": "fbdbbab8-dd14-46ff-9cac-d9f6d1055129",
   "metadata": {},
   "outputs": [
    {
     "name": "stdout",
     "output_type": "stream",
     "text": [
      "First 5 and Last 5 elements of the squares list: [1, 4, 9, 16, 25, 676, 729, 784, 841, 900]\n"
     ]
    }
   ],
   "source": [
    "#35) Write a Python program to generate and print a list of first and last 5 elements where the values are square of numbers between 1 and 30. \n",
    "# Generate a list of squares of numbers between 1 and 30\n",
    "squares = [x**2 for x in range(1, 31)]\n",
    "\n",
    "# Extract the first 5 and last 5 elements\n",
    "first_5 = squares[:5]\n",
    "last_5 = squares[-5:]\n",
    "\n",
    "# Combine both parts\n",
    "result = first_5 + last_5\n",
    "\n",
    "# Print the result\n",
    "print(\"First 5 and Last 5 elements of the squares list:\", result)\n"
   ]
  },
  {
   "cell_type": "code",
   "execution_count": 51,
   "id": "ea12009d-4d38-4835-b9c7-22950347548e",
   "metadata": {},
   "outputs": [
    {
     "name": "stdout",
     "output_type": "stream",
     "text": [
      "List with unique elements from both lists: [1, 2, 3, 4, 5, 6, 7, 8, 9, 10]\n"
     ]
    }
   ],
   "source": [
    "#36) Write a Python function that takes a list and returns a new list with unique elements of the first list. \n",
    "def get_unique_elements(list1, list2):\n",
    "    # Combine both lists and convert to a set to remove duplicates\n",
    "    unique_list = list(set(list1 + list2))\n",
    "    return unique_list\n",
    "\n",
    "# Example usage\n",
    "list36 = [1, 2, 3, 4, 5]\n",
    "list321 = [1, 2, 5, 6, 7, 8, 9, 10]\n",
    "\n",
    "unique_elements = get_unique_elements(list36, list321)\n",
    "print(\"List with unique elements from both lists:\", unique_elements)\n",
    "\n"
   ]
  },
  {
   "cell_type": "code",
   "execution_count": 67,
   "id": "c88bc6c2-18c9-4736-8879-435179f91e42",
   "metadata": {},
   "outputs": [
    {
     "name": "stdout",
     "output_type": "stream",
     "text": [
      "converted_string is : Hello World\n"
     ]
    }
   ],
   "source": [
    "#37)Write a Python program to convert a list of characters into a string. \n",
    "list_37 = [\"H\",\"e\",\"l\",\"l\",\"o\",\" \",\"W\",\"o\",\"r\",\"l\",\"d\"]\n",
    "def list_to_string(list_37):\n",
    "    return \"\".join(list_37)\n",
    "    \n",
    "result_37 = list_to_string(list_37)\n",
    "print(\"converted_string is :\",result_37)"
   ]
  },
  {
   "cell_type": "code",
   "execution_count": 91,
   "id": "af025ee7-ec66-471d-b207-43a7f041bb9e",
   "metadata": {},
   "outputs": [
    {
     "name": "stdout",
     "output_type": "stream",
     "text": [
      "randomly_items: 3\n"
     ]
    }
   ],
   "source": [
    "#38)Write a Python program to select an item randomly from a list. \n",
    "import random\n",
    "def select_random_items(list_38):\n",
    "    return random.choice(list_38)\n",
    "list_38 = [1,2,3,4,5,6]\n",
    "random_items = select_random_items(list_38)\n",
    "print(\"randomly_items:\",random_items)"
   ]
  },
  {
   "cell_type": "code",
   "execution_count": 93,
   "id": "2cb70f76-7175-4c5b-8037-96c03c0300ab",
   "metadata": {},
   "outputs": [],
   "source": [
    "#39)Write a Python program to find the second smallest number in a list"
   ]
  },
  {
   "cell_type": "code",
   "execution_count": 99,
   "id": "b4efb2e4-a4ff-49fa-811f-6d65d0ea693c",
   "metadata": {},
   "outputs": [
    {
     "name": "stdout",
     "output_type": "stream",
     "text": [
      "unique values are  [1, 2, 3, 4, 5, 6, 7, 8]\n"
     ]
    }
   ],
   "source": [
    "#40)Write a Python program to get unique values from a list \n",
    "list_40 = [1,2,2,3,4,4,5,6,7,8]\n",
    "unique_value_40 = list(set(list_40))\n",
    "print(\"unique values are \",unique_value_40)"
   ]
  },
  {
   "cell_type": "code",
   "execution_count": 101,
   "id": "f9c98966-f382-4a05-af1b-c09638f0acd1",
   "metadata": {},
   "outputs": [],
   "source": [
    "#41)Write a Python program to check whether a list contains a sub list"
   ]
  },
  {
   "cell_type": "code",
   "execution_count": 113,
   "id": "4652361f-69c6-4bb0-84db-bb36a71cd24d",
   "metadata": {},
   "outputs": [
    {
     "name": "stdout",
     "output_type": "stream",
     "text": [
      "Tisha Bhimani 1\n",
      "Ruchita goti 2\n",
      "Pushpa  3\n"
     ]
    }
   ],
   "source": [
    "#42)Write a Python program to split a list into different variables. \n",
    "list_42 = [\"Tisha Bhimani\",\"Ruchita Goti\",\"Pushpa \"]\n",
    "1,2,3 ==list_42\n",
    "print(\"Tisha Bhimani\",1)\n",
    "print(\"Ruchita goti\",2)\n",
    "print(\"Pushpa \",3)"
   ]
  },
  {
   "cell_type": "code",
   "execution_count": 115,
   "id": "ddf72f3a-d9c7-4689-a5ba-695d283cfb66",
   "metadata": {},
   "outputs": [
    {
     "name": "stdout",
     "output_type": "stream",
     "text": [
      "(1, 'Tisha', 1.0, True, None)\n"
     ]
    }
   ],
   "source": [
    "#44)Write a Python program to create a tuple with different data types. \n",
    "tuple_44 = (1,\"Tisha\",1.0,True,None)\n",
    "print(tuple_44)"
   ]
  },
  {
   "cell_type": "code",
   "execution_count": null,
   "id": "df51c6e1-fe5c-45a3-89fa-b5cc315784b4",
   "metadata": {},
   "outputs": [],
   "source": [
    "#45)Write a Python program to unzip a list of tuples into individual lists. \n"
   ]
  },
  {
   "cell_type": "code",
   "execution_count": 1,
   "id": "08ff59c0-1884-4874-bfdd-2763ee2f1fd4",
   "metadata": {},
   "outputs": [
    {
     "name": "stdout",
     "output_type": "stream",
     "text": [
      "{'a': 1, 'b': 2, 'c': 3}\n"
     ]
    }
   ],
   "source": [
    "#46)Write a Python program to convert a list of tuples into a dictionary. \n",
    "# Sample list of tuples\n",
    "list_of_tuples = [('a', 1), ('b', 2), ('c', 3)]\n",
    "\n",
    "# Convert list of tuples to a dictionary\n",
    "dictionary = dict(list_of_tuples)\n",
    "\n",
    "# Print the resulting dictionary\n",
    "print(dictionary)\n"
   ]
  },
  {
   "cell_type": "code",
   "execution_count": null,
   "id": "366fb6e9-62d4-4d11-a3dc-6cecbf6ec779",
   "metadata": {},
   "outputs": [],
   "source": [
    "#47)How will you create a dictionary using tuples in python?"
   ]
  },
  {
   "cell_type": "code",
   "execution_count": 3,
   "id": "ae05d95d-5a7d-4c22-9493-c8c1d97f5b77",
   "metadata": {},
   "outputs": [],
   "source": [
    "#48)Write a Python script to sort (ascending and descending) a dictionary by value. "
   ]
  },
  {
   "cell_type": "code",
   "execution_count": 5,
   "id": "73b4241e-52e1-4523-9d64-9a78c4dc58f9",
   "metadata": {},
   "outputs": [],
   "source": [
    "#49)Write a Python script to concatenate following dictionaries to create a new one. \n"
   ]
  },
  {
   "cell_type": "code",
   "execution_count": 7,
   "id": "921f4ccf-f99e-4961-a569-f5fb9506c053",
   "metadata": {},
   "outputs": [
    {
     "name": "stdout",
     "output_type": "stream",
     "text": [
      "name key is given dictionary\n"
     ]
    }
   ],
   "source": [
    "#50)Write a Python script to check if a given key already exists in a dictionary. \n",
    "student_info = {\n",
    "    \"name\": \"John Doe\",\n",
    "    \"age\": 21,\n",
    "    \"courses\": [\"Math\", \"Science\", \"History\"],\n",
    "    \"grades\": {\"Math\": \"A\", \"Science\": \"B\", \"History\": \"A\"},\n",
    "    \"is_active\": True\n",
    "}\n",
    "if \"name\" in student_info:\n",
    "    print(\"name key is given dictionary\")"
   ]
  },
  {
   "cell_type": "code",
   "execution_count": 15,
   "id": "a2f30d54-c12b-43cf-83c4-0a0fb2af3d74",
   "metadata": {},
   "outputs": [
    {
     "name": "stdout",
     "output_type": "stream",
     "text": [
      "key = name,value = John Doe\n",
      "key = age,value = 21\n",
      "key = courses,value = ['Math', 'Science', 'History']\n",
      "key = grades,value = {'Math': 'A', 'Science': 'B', 'History': 'A'}\n",
      "key = is_active,value = True\n"
     ]
    }
   ],
   "source": [
    "#51)How Do You Traverse Through a Dictionary Object in Python?\n",
    "for key,value in student_info.items():\n",
    "    print(f\"key = {key},value = {value}\")\n",
    "    "
   ]
  },
  {
   "cell_type": "code",
   "execution_count": 3,
   "id": "65808e58-72eb-4802-ae05-8611dca42137",
   "metadata": {},
   "outputs": [
    {
     "name": "stdout",
     "output_type": "stream",
     "text": [
      "a\n",
      "b\n",
      "c\n"
     ]
    }
   ],
   "source": [
    "#52)How Do You Check the Presence of a Key in A Dictionary?\n",
    "my_dict = {'a': 1, 'b': 2, 'c': 3}\n",
    "\n",
    "for key in my_dict:\n",
    "    print(key)\n"
   ]
  },
  {
   "cell_type": "code",
   "execution_count": 7,
   "id": "0092d5eb-91c2-4e41-b818-0dc3ebd3ca25",
   "metadata": {},
   "outputs": [
    {
     "name": "stdout",
     "output_type": "stream",
     "text": [
      "{1: 1, 2: 4, 3: 9, 4: 16, 5: 25, 6: 36, 7: 49, 8: 64, 9: 81, 10: 100, 11: 121, 12: 144, 13: 169, 14: 196, 15: 225}\n"
     ]
    }
   ],
   "source": [
    "#53)Write a Python script to print a dictionary where the keys are numbers between 1 and 15. \n",
    "\n",
    "# Create a dictionary where keys are numbers from 1 to 15 and values are their squares\n",
    "my_dict = {i: i**2 for i in range(1, 16)}\n",
    "\n",
    "# Print the dictionary\n",
    "print(my_dict)\n"
   ]
  },
  {
   "cell_type": "code",
   "execution_count": 9,
   "id": "119bf733-2746-4132-9dec-263b78d1c56b",
   "metadata": {},
   "outputs": [
    {
     "name": "stdout",
     "output_type": "stream",
     "text": [
      "Not all keys exist in the dictionary.\n"
     ]
    }
   ],
   "source": [
    "#54)Write a Python program to check multiple keys exists in a dictionary\n",
    "# Sample dictionary\n",
    "my_dict = {'a': 1, 'b': 2, 'c': 3, 'd': 4}\n",
    "\n",
    "# List of keys to check\n",
    "keys_to_check = ['a', 'b', 'e']\n",
    "\n",
    "# Check if all keys exist in the dictionary\n",
    "if all(key in my_dict for key in keys_to_check):\n",
    "    print(\"All keys exist in the dictionary.\")\n",
    "else:\n",
    "    print(\"Not all keys exist in the dictionary.\")\n"
   ]
  },
  {
   "cell_type": "code",
   "execution_count": 2,
   "id": "466aad0d-3e5c-4ed5-a50f-a794eda7ade5",
   "metadata": {},
   "outputs": [
    {
     "name": "stdout",
     "output_type": "stream",
     "text": [
      "Merged Dictionary (using for loop): {'a': 1, 'b': 3, 'c': 4}\n"
     ]
    }
   ],
   "source": [
    "#55)Write a Python script to merge two Python dictionaries\n",
    "def merge_dicts_for_loop(dict1, dict2):\n",
    "    # Create a copy of dict1 to avoid modifying the original\n",
    "    merged_dict = dict1.copy()\n",
    "    \n",
    "    # Loop through dict2 and update merged_dict\n",
    "    for key, value in dict2.items():\n",
    "        merged_dict[key] = value\n",
    "    \n",
    "    return merged_dict\n",
    "\n",
    "# Example dictionaries\n",
    "dict1 = {'a': 1, 'b': 2}\n",
    "dict2 = {'b': 3, 'c': 4}\n",
    "\n",
    "# Merging dictionaries using for loop\n",
    "merged_dict = merge_dicts_for_loop(dict1, dict2)\n",
    "\n",
    "# Print the merged dictionary\n",
    "print(\"Merged Dictionary (using for loop):\", merged_dict)\n"
   ]
  },
  {
   "cell_type": "code",
   "execution_count": 4,
   "id": "e0515ed5-cd61-42c6-b0f3-e8058ef4a77d",
   "metadata": {},
   "outputs": [
    {
     "name": "stdout",
     "output_type": "stream",
     "text": [
      "Highest 3 values: [200, 150, 120]\n"
     ]
    }
   ],
   "source": [
    "#\n",
    "# Sample dictionary\n",
    "sample_dict = {'a': 50, 'b': 100, 'c': 150, 'd': 200, 'e': 120}\n",
    "\n",
    "# Sorting the dictionary by values in descending order and selecting the top 3\n",
    "highest_values = sorted(sample_dict.values(), reverse=True)[:3]\n",
    "\n",
    "# Printing the highest 3 values\n",
    "print(\"Highest 3 values:\", highest_values)\n"
   ]
  },
  {
   "cell_type": "code",
   "execution_count": 1,
   "id": "382abee2-8103-4495-82b2-499e3dace624",
   "metadata": {},
   "outputs": [
    {
     "name": "stdout",
     "output_type": "stream",
     "text": [
      "Counter({'a': 400, 'b': 400, 'd': 400, 'c': 300})\n"
     ]
    }
   ],
   "source": [
    "#56)Write a Python program to map two lists into a dictionary Sample output: Counter ({'a': 400, 'b': 400,’d’: 400, 'c': 300}). \n",
    "from collections import Counter\n",
    "\n",
    "# Sample input lists\n",
    "keys = ['a', 'b', 'd', 'c']\n",
    "values = [400, 400, 400, 300]\n",
    "\n",
    "# Mapping the two lists into a dictionary\n",
    "my_dict = dict(zip(keys, values))\n",
    "\n",
    "# Using Counter to display the dictionary\n",
    "counter_dict = Counter(my_dict)\n",
    "\n",
    "print(counter_dict)\n"
   ]
  },
  {
   "cell_type": "code",
   "execution_count": 3,
   "id": "001f571e-94b2-47f4-ac75-765ed1e34605",
   "metadata": {},
   "outputs": [
    {
     "name": "stdout",
     "output_type": "stream",
     "text": [
      "The highest 3 values are: [500, 400, 300]\n"
     ]
    }
   ],
   "source": [
    "#57)Write a Python program to find the highest 3 values in a dictionary \n",
    "# Sample dictionary\n",
    "my_dict = {'a': 100, 'b': 200, 'c': 300, 'd': 400, 'e': 500}\n",
    "\n",
    "# Sort the dictionary by value in descending order and get the top 3\n",
    "highest_values = sorted(my_dict.values(), reverse=True)[:3]\n",
    "\n",
    "# Print the highest 3 values\n",
    "print(\"The highest 3 values are:\", highest_values)\n"
   ]
  },
  {
   "cell_type": "code",
   "execution_count": 5,
   "id": "0689be0e-8eb5-4a01-a226-507e2d30f381",
   "metadata": {},
   "outputs": [
    {
     "name": "stdout",
     "output_type": "stream",
     "text": [
      "Counter({'item1': 1150, 'item2': 300})\n"
     ]
    }
   ],
   "source": [
    "#58)Write a Python program to combine values in python list of dictionaries.\n",
    "#Sample data: [{'item': 'item1', 'amount': 400}, {'item': 'item2', 'amount':300}, o {'item': 'item1', 'amount': 750}]\n",
    "#Expected Output:\n",
    "#• Counter ({'item1': 1150, 'item2': 300})\n",
    "from collections import Counter\n",
    "\n",
    "# Sample data\n",
    "data = [{'item': 'item1', 'amount': 400}, {'item': 'item2', 'amount': 300}, {'item': 'item1', 'amount': 750}]\n",
    "\n",
    "# Initialize a Counter to keep track of combined amounts\n",
    "counter = Counter()\n",
    "\n",
    "# Loop through the list of dictionaries and sum the amounts for each item\n",
    "for entry in data:\n",
    "    counter[entry['item']] += entry['amount']\n",
    "\n",
    "# Display the combined amounts\n",
    "print(counter)\n"
   ]
  },
  {
   "cell_type": "code",
   "execution_count": 7,
   "id": "153c07ce-61c3-436d-93a8-23934fdf7655",
   "metadata": {},
   "outputs": [
    {
     "name": "stdout",
     "output_type": "stream",
     "text": [
      "{'p': 1, 'r': 2, 'o': 1, 'g': 2, 'a': 1, 'm': 2, 'i': 1, 'n': 1}\n"
     ]
    }
   ],
   "source": [
    "#59)Write a Python program to create a dictionary from a string. Note: Track the count of the letters from the string. \n",
    "# Sample string\n",
    "input_string = \"programming\"\n",
    "\n",
    "# Create an empty dictionary to store the count of each letter\n",
    "letter_count = {}\n",
    "\n",
    "# Loop through each character in the string\n",
    "for letter in input_string:\n",
    "    # If the letter is already in the dictionary, increment its count\n",
    "    if letter in letter_count:\n",
    "        letter_count[letter] += 1\n",
    "    else:\n",
    "        # If the letter is not in the dictionary, add it with count 1\n",
    "        letter_count[letter] = 1\n",
    "\n",
    "# Display the dictionary\n",
    "print(letter_count)\n"
   ]
  },
  {
   "cell_type": "code",
   "execution_count": 9,
   "id": "4bdfdd83-5e77-49f3-8995-33653b44afd7",
   "metadata": {},
   "outputs": [
    {
     "name": "stdout",
     "output_type": "stream",
     "text": [
      "{'w': 1, '3': 1, 'r': 2, 'e': 2, 's': 1, 'o': 1, 'u': 1, 'c': 1}\n"
     ]
    }
   ],
   "source": [
    "#60)Sample string: 'w3resource' Expected output:\n",
    "#• {'3': 1,’s’: 1, 'r': 2, 'u': 1, 'w': 1, 'c': 1, 'e': 2, 'o': 1}\n",
    "# Sample string\n",
    "input_string = 'w3resource'\n",
    "\n",
    "# Create an empty dictionary to store the count of each character\n",
    "char_count = {}\n",
    "\n",
    "# Loop through each character in the string\n",
    "for char in input_string:\n",
    "    # If the character is already in the dictionary, increment its count\n",
    "    if char in char_count:\n",
    "        char_count[char] += 1\n",
    "    else:\n",
    "        # If the character is not in the dictionary, add it with count 1\n",
    "        char_count[char] = 1\n",
    "\n",
    "# Display the dictionary with character counts\n",
    "print(char_count)\n"
   ]
  },
  {
   "cell_type": "code",
   "execution_count": 11,
   "id": "55020cdd-6d79-4d52-8064-67ec4c3461fb",
   "metadata": {},
   "outputs": [
    {
     "name": "stdout",
     "output_type": "stream",
     "text": [
      "The factorial of 5 is 120\n"
     ]
    }
   ],
   "source": [
    "#61)Write a Python function to calculate the factorial of a number (a nonnegative integer)\n",
    "def factorial(n):\n",
    "    # Ensure that the number is a nonnegative integer\n",
    "    if n < 0:\n",
    "        return \"Factorial is not defined for negative numbers\"\n",
    "    \n",
    "    # Initialize the result to 1 (factorial of 0 is 1)\n",
    "    result = 1\n",
    "    \n",
    "    # Calculate the factorial using a loop\n",
    "    for i in range(1, n + 1):\n",
    "        result *= i\n",
    "        \n",
    "    return result\n",
    "\n",
    "# Example usage:\n",
    "num = 5\n",
    "print(f\"The factorial of {num} is {factorial(num)}\")\n"
   ]
  },
  {
   "cell_type": "code",
   "execution_count": 13,
   "id": "8a2b8ecf-f399-4900-8496-fb0e95a149c2",
   "metadata": {},
   "outputs": [
    {
     "name": "stdout",
     "output_type": "stream",
     "text": [
      "Is 5 in the range 1 to 10? True\n"
     ]
    }
   ],
   "source": [
    "#62)Write a Python function to check whether a number is in a given range \n",
    "def is_in_range(number, lower, upper):\n",
    "    # Check if the number is within the given range (inclusive)\n",
    "    if lower <= number <= upper:\n",
    "        return True\n",
    "    else:\n",
    "        return False\n",
    "\n",
    "# Example usage:\n",
    "num = 5\n",
    "lower_bound = 1\n",
    "upper_bound = 10\n",
    "print(f\"Is {num} in the range {lower_bound} to {upper_bound}? {is_in_range(num, lower_bound, upper_bound)}\")\n"
   ]
  },
  {
   "cell_type": "code",
   "execution_count": 15,
   "id": "0db09695-b5fc-45f8-b388-b371ca1220cb",
   "metadata": {},
   "outputs": [
    {
     "name": "stdout",
     "output_type": "stream",
     "text": [
      "Is 6 a perfect number? True\n"
     ]
    }
   ],
   "source": [
    "#63)Write a Python function to check whether a number is perfect or not. \n",
    "def is_perfect(number):\n",
    "    # A perfect number must be positive\n",
    "    if number <= 0:\n",
    "        return False\n",
    "    \n",
    "    # Find the sum of proper divisors (excluding the number itself)\n",
    "    sum_of_divisors = 0\n",
    "    for i in range(1, number):\n",
    "        if number % i == 0:  # i is a divisor of number\n",
    "            sum_of_divisors += i\n",
    "    \n",
    "    # Check if the sum of divisors is equal to the number\n",
    "    return sum_of_divisors == number\n",
    "\n",
    "# Example usage:\n",
    "num = 6\n",
    "print(f\"Is {num} a perfect number? {is_perfect(num)}\")\n"
   ]
  },
  {
   "cell_type": "code",
   "execution_count": 17,
   "id": "fdd5afab-0afe-42e8-9b1a-a906cd4346b2",
   "metadata": {},
   "outputs": [
    {
     "name": "stdout",
     "output_type": "stream",
     "text": [
      "Is the string 'A man a plan a canal Panama' a palindrome? True\n"
     ]
    }
   ],
   "source": [
    "#64)Write a Python function that checks whether a passed string is palindrome or not\n",
    "def is_palindrome(s):\n",
    "    # Remove spaces and convert the string to lowercase for case-insensitive comparison\n",
    "    cleaned_string = ''.join(e.lower() for e in s if e.isalnum())\n",
    "    \n",
    "    # Check if the cleaned string is equal to its reverse\n",
    "    return cleaned_string == cleaned_string[::-1]\n",
    "\n",
    "# Example usage:\n",
    "input_string = \"A man a plan a canal Panama\"\n",
    "print(f\"Is the string '{input_string}' a palindrome? {is_palindrome(input_string)}\")\n"
   ]
  },
  {
   "cell_type": "code",
   "execution_count": 19,
   "id": "237c4036-fbe2-4754-a322-6a47cd3c9355",
   "metadata": {},
   "outputs": [
    {
     "name": "stdout",
     "output_type": "stream",
     "text": [
      "A random item from the list: 50\n",
      "A random item from the tuple: date\n"
     ]
    }
   ],
   "source": [
    "#66)How can you pick a random item from a list or tuple? \n",
    "#Example for list\n",
    "import random\n",
    "\n",
    "# Sample list\n",
    "my_list = [10, 20, 30, 40, 50]\n",
    "\n",
    "# Pick a random item from the list\n",
    "random_item = random.choice(my_list)\n",
    "\n",
    "print(f\"A random item from the list: {random_item}\")\n",
    "\n",
    "#Example for tuple\n",
    "import random\n",
    "\n",
    "# Sample tuple\n",
    "my_tuple = ('apple', 'banana', 'cherry', 'date')\n",
    "\n",
    "# Pick a random item from the tuple\n",
    "random_item = random.choice(my_tuple)\n",
    "\n",
    "print(f\"A random item from the tuple: {random_item}\")\n"
   ]
  },
  {
   "cell_type": "code",
   "execution_count": 21,
   "id": "aeeb21f4-5a90-4e12-a7ba-92af29e06830",
   "metadata": {},
   "outputs": [
    {
     "name": "stdout",
     "output_type": "stream",
     "text": [
      "A random item from the range: 6\n"
     ]
    }
   ],
   "source": [
    "#67)How can you pick a random item from a range? \n",
    "import random\n",
    "\n",
    "# Define the range (for example, from 1 to 10)\n",
    "my_range = range(1, 11)\n",
    "\n",
    "# Pick a random item from the range\n",
    "random_item = random.choice(my_range)\n",
    "\n",
    "print(f\"A random item from the range: {random_item}\")\n"
   ]
  },
  {
   "cell_type": "code",
   "execution_count": 23,
   "id": "1d06a364-331a-4000-bce2-0585c78866e3",
   "metadata": {},
   "outputs": [
    {
     "name": "stdout",
     "output_type": "stream",
     "text": [
      "A random integer between 1 and 10: 7\n"
     ]
    }
   ],
   "source": [
    "#68)How can you get a random number in python?\n",
    "import random\n",
    "\n",
    "# Generate a random integer between 1 and 10 (inclusive)\n",
    "random_integer = random.randint(1, 10)\n",
    "\n",
    "print(f\"A random integer between 1 and 10: {random_integer}\")\n"
   ]
  },
  {
   "cell_type": "code",
   "execution_count": 25,
   "id": "5df17453-e356-4e4e-beb7-c101d5b487a8",
   "metadata": {},
   "outputs": [
    {
     "name": "stdout",
     "output_type": "stream",
     "text": [
      "A random integer between 1 and 10: 2\n",
      "A random float between 0 and 1: 0.025010755222666936\n"
     ]
    }
   ],
   "source": [
    "#69)How will you set the starting value in generating random numbers?\n",
    "import random\n",
    "\n",
    "# Set the seed value for random number generation\n",
    "random.seed(42)\n",
    "\n",
    "# Generate a random integer between 1 and 10\n",
    "random_integer = random.randint(1, 10)\n",
    "\n",
    "print(f\"A random integer between 1 and 10: {random_integer}\")\n",
    "\n",
    "# Generate a random floating point number\n",
    "random_float = random.random()\n",
    "\n",
    "print(f\"A random float between 0 and 1: {random_float}\")\n"
   ]
  },
  {
   "cell_type": "code",
   "execution_count": 27,
   "id": "1f1837d9-6e21-41f7-a397-8de768f7f05b",
   "metadata": {},
   "outputs": [
    {
     "name": "stdout",
     "output_type": "stream",
     "text": [
      "Shuffled list: [40, 50, 10, 20, 30]\n"
     ]
    }
   ],
   "source": [
    "#70) How will you randomize the items of a list in place? \n",
    "import random\n",
    "\n",
    "# Sample list\n",
    "my_list = [10, 20, 30, 40, 50]\n",
    "\n",
    "# Shuffle the list in place\n",
    "random.shuffle(my_list)\n",
    "\n",
    "# Print the shuffled list\n",
    "print(\"Shuffled list:\", my_list)\n"
   ]
  },
  {
   "cell_type": "code",
   "execution_count": 33,
   "id": "33ba206a-9b0f-4573-b644-5494f359c4df",
   "metadata": {},
   "outputs": [
    {
     "name": "stdout",
     "output_type": "stream",
     "text": [
      "Id,SepalLengthCm,SepalWidthCm,PetalLengthCm,PetalWidthCm,Species\n",
      "1,5.1,3.5,1.4,0.2,Iris-setosa\n",
      "2,4.9,3,1.4,0.2,Iris-setosa\n",
      "3,4.7,3.2,1.3,0.2,Iris-setosa\n",
      "4,4.6,3.1,1.5,0.2,Iris-setosa\n",
      "5,5,3.6,1.4,0.2,Iris-setosa\n",
      "6,5.4,3.9,1.7,0.4,Iris-setosa\n",
      "7,4.6,3.4,1.4,0.3,Iris-setosa\n",
      "8,5,3.4,1.5,0.2,Iris-setosa\n",
      "9,4.4,2.9,1.4,0.2,Iris-setosa\n",
      "10,4.9,3.1,1.5,0.1,Iris-setosa\n",
      "11,5.4,3.7,1.5,0.2,Iris-setosa\n",
      "12,4.8,3.4,1.6,0.2,Iris-setosa\n",
      "13,4.8,3,1.4,0.1,Iris-setosa\n",
      "14,4.3,3,1.1,0.1,Iris-setosa\n",
      "15,5.8,4,1.2,0.2,Iris-setosa\n",
      "16,5.7,4.4,1.5,0.4,Iris-setosa\n",
      "17,5.4,3.9,1.3,0.4,Iris-setosa\n",
      "18,5.1,3.5,1.4,0.3,Iris-setosa\n",
      "19,5.7,3.8,1.7,0.3,Iris-setosa\n",
      "20,5.1,3.8,1.5,0.3,Iris-setosa\n",
      "21,5.4,3.4,1.7,0.2,Iris-setosa\n",
      "22,5.1,3.7,1.5,0.4,Iris-setosa\n",
      "23,4.6,3.6,1,0.2,Iris-setosa\n",
      "24,5.1,3.3,1.7,0.5,Iris-setosa\n",
      "25,4.8,3.4,1.9,0.2,Iris-setosa\n",
      "26,5,3,1.6,0.2,Iris-setosa\n",
      "27,5,3.4,1.6,0.4,Iris-setosa\n",
      "28,5.2,3.5,1.5,0.2,Iris-setosa\n",
      "29,5.2,3.4,1.4,0.2,Iris-setosa\n",
      "30,4.7,3.2,1.6,0.2,Iris-setosa\n",
      "31,4.8,3.1,1.6,0.2,Iris-setosa\n",
      "32,5.4,3.4,1.5,0.4,Iris-setosa\n",
      "33,5.2,4.1,1.5,0.1,Iris-setosa\n",
      "34,5.5,4.2,1.4,0.2,Iris-setosa\n",
      "35,4.9,3.1,1.5,0.1,Iris-setosa\n",
      "36,5,3.2,1.2,0.2,Iris-setosa\n",
      "37,5.5,3.5,1.3,0.2,Iris-setosa\n",
      "38,4.9,3.1,1.5,0.1,Iris-setosa\n",
      "39,4.4,3,1.3,0.2,Iris-setosa\n",
      "40,5.1,3.4,1.5,0.2,Iris-setosa\n",
      "41,5,3.5,1.3,0.3,Iris-setosa\n",
      "42,4.5,2.3,1.3,0.3,Iris-setosa\n",
      "43,4.4,3.2,1.3,0.2,Iris-setosa\n",
      "44,5,3.5,1.6,0.6,Iris-setosa\n",
      "45,5.1,3.8,1.9,0.4,Iris-setosa\n",
      "46,4.8,3,1.4,0.3,Iris-setosa\n",
      "47,5.1,3.8,1.6,0.2,Iris-setosa\n",
      "48,4.6,3.2,1.4,0.2,Iris-setosa\n",
      "49,5.3,3.7,1.5,0.2,Iris-setosa\n",
      "50,5,3.3,1.4,0.2,Iris-setosa\n",
      "51,7,3.2,4.7,1.4,Iris-versicolor\n",
      "52,6.4,3.2,4.5,1.5,Iris-versicolor\n",
      "53,6.9,3.1,4.9,1.5,Iris-versicolor\n",
      "54,5.5,2.3,4,1.3,Iris-versicolor\n",
      "55,6.5,2.8,4.6,1.5,Iris-versicolor\n",
      "56,5.7,2.8,4.5,1.3,Iris-versicolor\n",
      "57,6.3,3.3,4.7,1.6,Iris-versicolor\n",
      "58,4.9,2.4,3.3,1,Iris-versicolor\n",
      "59,6.6,2.9,4.6,1.3,Iris-versicolor\n",
      "60,5.2,2.7,3.9,1.4,Iris-versicolor\n",
      "61,5,2,3.5,1,Iris-versicolor\n",
      "62,5.9,3,4.2,1.5,Iris-versicolor\n",
      "63,6,2.2,4,1,Iris-versicolor\n",
      "64,6.1,2.9,4.7,1.4,Iris-versicolor\n",
      "65,5.6,2.9,3.6,1.3,Iris-versicolor\n",
      "66,6.7,3.1,4.4,1.4,Iris-versicolor\n",
      "67,5.6,3,4.5,1.5,Iris-versicolor\n",
      "68,5.8,2.7,4.1,1,Iris-versicolor\n",
      "69,6.2,2.2,4.5,1.5,Iris-versicolor\n",
      "70,5.6,2.5,3.9,1.1,Iris-versicolor\n",
      "71,5.9,3.2,4.8,1.8,Iris-versicolor\n",
      "72,6.1,2.8,4,1.3,Iris-versicolor\n",
      "73,6.3,2.5,4.9,1.5,Iris-versicolor\n",
      "74,6.1,2.8,4.7,1.2,Iris-versicolor\n",
      "75,6.4,2.9,4.3,1.3,Iris-versicolor\n",
      "76,6.6,3,4.4,1.4,Iris-versicolor\n",
      "77,6.8,2.8,4.8,1.4,Iris-versicolor\n",
      "78,6.7,3,5,1.7,Iris-versicolor\n",
      "79,6,2.9,4.5,1.5,Iris-versicolor\n",
      "80,5.7,2.6,3.5,1,Iris-versicolor\n",
      "81,5.5,2.4,3.8,1.1,Iris-versicolor\n",
      "82,5.5,2.4,3.7,1,Iris-versicolor\n",
      "83,5.8,2.7,3.9,1.2,Iris-versicolor\n",
      "84,6,2.7,5.1,1.6,Iris-versicolor\n",
      "85,5.4,3,4.5,1.5,Iris-versicolor\n",
      "86,6,3.4,4.5,1.6,Iris-versicolor\n",
      "87,6.7,3.1,4.7,1.5,Iris-versicolor\n",
      "88,6.3,2.3,4.4,1.3,Iris-versicolor\n",
      "89,5.6,3,4.1,1.3,Iris-versicolor\n",
      "90,5.5,2.5,4,1.3,Iris-versicolor\n",
      "91,5.5,2.6,4.4,1.2,Iris-versicolor\n",
      "92,6.1,3,4.6,1.4,Iris-versicolor\n",
      "93,5.8,2.6,4,1.2,Iris-versicolor\n",
      "94,5,2.3,3.3,1,Iris-versicolor\n",
      "95,5.6,2.7,4.2,1.3,Iris-versicolor\n",
      "96,5.7,3,4.2,1.2,Iris-versicolor\n",
      "97,5.7,2.9,4.2,1.3,Iris-versicolor\n",
      "98,6.2,2.9,4.3,1.3,Iris-versicolor\n",
      "99,5.1,2.5,3,1.1,Iris-versicolor\n",
      "100,5.7,2.8,4.1,1.3,Iris-versicolor\n",
      "101,6.3,3.3,6,2.5,Iris-virginica\n",
      "102,5.8,2.7,5.1,1.9,Iris-virginica\n",
      "103,7.1,3,5.9,2.1,Iris-virginica\n",
      "104,6.3,2.9,5.6,1.8,Iris-virginica\n",
      "105,6.5,3,5.8,2.2,Iris-virginica\n",
      "106,7.6,3,6.6,2.1,Iris-virginica\n",
      "107,4.9,2.5,4.5,1.7,Iris-virginica\n",
      "108,7.3,2.9,6.3,1.8,Iris-virginica\n",
      "109,6.7,2.5,5.8,1.8,Iris-virginica\n",
      "110,7.2,3.6,6.1,2.5,Iris-virginica\n",
      "111,6.5,3.2,5.1,2,Iris-virginica\n",
      "112,6.4,2.7,5.3,1.9,Iris-virginica\n",
      "113,6.8,3,5.5,2.1,Iris-virginica\n",
      "114,5.7,2.5,5,2,Iris-virginica\n",
      "115,5.8,2.8,5.1,2.4,Iris-virginica\n",
      "116,6.4,3.2,5.3,2.3,Iris-virginica\n",
      "117,6.5,3,5.5,1.8,Iris-virginica\n",
      "118,7.7,3.8,6.7,2.2,Iris-virginica\n",
      "119,7.7,2.6,6.9,2.3,Iris-virginica\n",
      "120,6,2.2,5,1.5,Iris-virginica\n",
      "121,6.9,3.2,5.7,2.3,Iris-virginica\n",
      "122,5.6,2.8,4.9,2,Iris-virginica\n",
      "123,7.7,2.8,6.7,2,Iris-virginica\n",
      "124,6.3,2.7,4.9,1.8,Iris-virginica\n",
      "125,6.7,3.3,5.7,2.1,Iris-virginica\n",
      "126,7.2,3.2,6,1.8,Iris-virginica\n",
      "127,6.2,2.8,4.8,1.8,Iris-virginica\n",
      "128,6.1,3,4.9,1.8,Iris-virginica\n",
      "129,6.4,2.8,5.6,2.1,Iris-virginica\n",
      "130,7.2,3,5.8,1.6,Iris-virginica\n",
      "131,7.4,2.8,6.1,1.9,Iris-virginica\n",
      "132,7.9,3.8,6.4,2,Iris-virginica\n",
      "133,6.4,2.8,5.6,2.2,Iris-virginica\n",
      "134,6.3,2.8,5.1,1.5,Iris-virginica\n",
      "135,6.1,2.6,5.6,1.4,Iris-virginica\n",
      "136,7.7,3,6.1,2.3,Iris-virginica\n",
      "137,6.3,3.4,5.6,2.4,Iris-virginica\n",
      "138,6.4,3.1,5.5,1.8,Iris-virginica\n",
      "139,6,3,4.8,1.8,Iris-virginica\n",
      "140,6.9,3.1,5.4,2.1,Iris-virginica\n",
      "141,6.7,3.1,5.6,2.4,Iris-virginica\n",
      "142,6.9,3.1,5.1,2.3,Iris-virginica\n",
      "143,5.8,2.7,5.1,1.9,Iris-virginica\n",
      "144,6.8,3.2,5.9,2.3,Iris-virginica\n",
      "145,6.7,3.3,5.7,2.5,Iris-virginica\n",
      "146,6.7,3,5.2,2.3,Iris-virginica\n",
      "147,6.3,2.5,5,1.9,Iris-virginica\n",
      "148,6.5,3,5.2,2,Iris-virginica\n",
      "149,6.2,3.4,5.4,2.3,Iris-virginica\n",
      "150,5.9,3,5.1,1.8,Iris-virginica\n",
      "151,5.9,3.2,5,1.8,Iris-virginica\n",
      "\n"
     ]
    }
   ],
   "source": [
    "#72)Write a Python program to read an entire text file\n",
    "# Open the file in read mode\n",
    "with open(\"C:\\\\Users\\\\Dhruvit\\\\Downloads\\\\Iris.csv\", \"r\") as file:\n",
    "    # Read the entire content of the file\n",
    "    content = file.read()\n",
    "\n",
    "# Print the content of the file\n",
    "print(content)\n"
   ]
  },
  {
   "cell_type": "code",
   "execution_count": 35,
   "id": "01bfa814-ff87-4d70-ad79-6dc92d311eb2",
   "metadata": {},
   "outputs": [
    {
     "name": "stdout",
     "output_type": "stream",
     "text": [
      "Content of the file after appending:\n",
      "Id,SepalLengthCm,SepalWidthCm,PetalLengthCm,PetalWidthCm,Species\n",
      "1,5.1,3.5,1.4,0.2,Iris-setosa\n",
      "2,4.9,3,1.4,0.2,Iris-setosa\n",
      "3,4.7,3.2,1.3,0.2,Iris-setosa\n",
      "4,4.6,3.1,1.5,0.2,Iris-setosa\n",
      "5,5,3.6,1.4,0.2,Iris-setosa\n",
      "6,5.4,3.9,1.7,0.4,Iris-setosa\n",
      "7,4.6,3.4,1.4,0.3,Iris-setosa\n",
      "8,5,3.4,1.5,0.2,Iris-setosa\n",
      "9,4.4,2.9,1.4,0.2,Iris-setosa\n",
      "10,4.9,3.1,1.5,0.1,Iris-setosa\n",
      "11,5.4,3.7,1.5,0.2,Iris-setosa\n",
      "12,4.8,3.4,1.6,0.2,Iris-setosa\n",
      "13,4.8,3,1.4,0.1,Iris-setosa\n",
      "14,4.3,3,1.1,0.1,Iris-setosa\n",
      "15,5.8,4,1.2,0.2,Iris-setosa\n",
      "16,5.7,4.4,1.5,0.4,Iris-setosa\n",
      "17,5.4,3.9,1.3,0.4,Iris-setosa\n",
      "18,5.1,3.5,1.4,0.3,Iris-setosa\n",
      "19,5.7,3.8,1.7,0.3,Iris-setosa\n",
      "20,5.1,3.8,1.5,0.3,Iris-setosa\n",
      "21,5.4,3.4,1.7,0.2,Iris-setosa\n",
      "22,5.1,3.7,1.5,0.4,Iris-setosa\n",
      "23,4.6,3.6,1,0.2,Iris-setosa\n",
      "24,5.1,3.3,1.7,0.5,Iris-setosa\n",
      "25,4.8,3.4,1.9,0.2,Iris-setosa\n",
      "26,5,3,1.6,0.2,Iris-setosa\n",
      "27,5,3.4,1.6,0.4,Iris-setosa\n",
      "28,5.2,3.5,1.5,0.2,Iris-setosa\n",
      "29,5.2,3.4,1.4,0.2,Iris-setosa\n",
      "30,4.7,3.2,1.6,0.2,Iris-setosa\n",
      "31,4.8,3.1,1.6,0.2,Iris-setosa\n",
      "32,5.4,3.4,1.5,0.4,Iris-setosa\n",
      "33,5.2,4.1,1.5,0.1,Iris-setosa\n",
      "34,5.5,4.2,1.4,0.2,Iris-setosa\n",
      "35,4.9,3.1,1.5,0.1,Iris-setosa\n",
      "36,5,3.2,1.2,0.2,Iris-setosa\n",
      "37,5.5,3.5,1.3,0.2,Iris-setosa\n",
      "38,4.9,3.1,1.5,0.1,Iris-setosa\n",
      "39,4.4,3,1.3,0.2,Iris-setosa\n",
      "40,5.1,3.4,1.5,0.2,Iris-setosa\n",
      "41,5,3.5,1.3,0.3,Iris-setosa\n",
      "42,4.5,2.3,1.3,0.3,Iris-setosa\n",
      "43,4.4,3.2,1.3,0.2,Iris-setosa\n",
      "44,5,3.5,1.6,0.6,Iris-setosa\n",
      "45,5.1,3.8,1.9,0.4,Iris-setosa\n",
      "46,4.8,3,1.4,0.3,Iris-setosa\n",
      "47,5.1,3.8,1.6,0.2,Iris-setosa\n",
      "48,4.6,3.2,1.4,0.2,Iris-setosa\n",
      "49,5.3,3.7,1.5,0.2,Iris-setosa\n",
      "50,5,3.3,1.4,0.2,Iris-setosa\n",
      "51,7,3.2,4.7,1.4,Iris-versicolor\n",
      "52,6.4,3.2,4.5,1.5,Iris-versicolor\n",
      "53,6.9,3.1,4.9,1.5,Iris-versicolor\n",
      "54,5.5,2.3,4,1.3,Iris-versicolor\n",
      "55,6.5,2.8,4.6,1.5,Iris-versicolor\n",
      "56,5.7,2.8,4.5,1.3,Iris-versicolor\n",
      "57,6.3,3.3,4.7,1.6,Iris-versicolor\n",
      "58,4.9,2.4,3.3,1,Iris-versicolor\n",
      "59,6.6,2.9,4.6,1.3,Iris-versicolor\n",
      "60,5.2,2.7,3.9,1.4,Iris-versicolor\n",
      "61,5,2,3.5,1,Iris-versicolor\n",
      "62,5.9,3,4.2,1.5,Iris-versicolor\n",
      "63,6,2.2,4,1,Iris-versicolor\n",
      "64,6.1,2.9,4.7,1.4,Iris-versicolor\n",
      "65,5.6,2.9,3.6,1.3,Iris-versicolor\n",
      "66,6.7,3.1,4.4,1.4,Iris-versicolor\n",
      "67,5.6,3,4.5,1.5,Iris-versicolor\n",
      "68,5.8,2.7,4.1,1,Iris-versicolor\n",
      "69,6.2,2.2,4.5,1.5,Iris-versicolor\n",
      "70,5.6,2.5,3.9,1.1,Iris-versicolor\n",
      "71,5.9,3.2,4.8,1.8,Iris-versicolor\n",
      "72,6.1,2.8,4,1.3,Iris-versicolor\n",
      "73,6.3,2.5,4.9,1.5,Iris-versicolor\n",
      "74,6.1,2.8,4.7,1.2,Iris-versicolor\n",
      "75,6.4,2.9,4.3,1.3,Iris-versicolor\n",
      "76,6.6,3,4.4,1.4,Iris-versicolor\n",
      "77,6.8,2.8,4.8,1.4,Iris-versicolor\n",
      "78,6.7,3,5,1.7,Iris-versicolor\n",
      "79,6,2.9,4.5,1.5,Iris-versicolor\n",
      "80,5.7,2.6,3.5,1,Iris-versicolor\n",
      "81,5.5,2.4,3.8,1.1,Iris-versicolor\n",
      "82,5.5,2.4,3.7,1,Iris-versicolor\n",
      "83,5.8,2.7,3.9,1.2,Iris-versicolor\n",
      "84,6,2.7,5.1,1.6,Iris-versicolor\n",
      "85,5.4,3,4.5,1.5,Iris-versicolor\n",
      "86,6,3.4,4.5,1.6,Iris-versicolor\n",
      "87,6.7,3.1,4.7,1.5,Iris-versicolor\n",
      "88,6.3,2.3,4.4,1.3,Iris-versicolor\n",
      "89,5.6,3,4.1,1.3,Iris-versicolor\n",
      "90,5.5,2.5,4,1.3,Iris-versicolor\n",
      "91,5.5,2.6,4.4,1.2,Iris-versicolor\n",
      "92,6.1,3,4.6,1.4,Iris-versicolor\n",
      "93,5.8,2.6,4,1.2,Iris-versicolor\n",
      "94,5,2.3,3.3,1,Iris-versicolor\n",
      "95,5.6,2.7,4.2,1.3,Iris-versicolor\n",
      "96,5.7,3,4.2,1.2,Iris-versicolor\n",
      "97,5.7,2.9,4.2,1.3,Iris-versicolor\n",
      "98,6.2,2.9,4.3,1.3,Iris-versicolor\n",
      "99,5.1,2.5,3,1.1,Iris-versicolor\n",
      "100,5.7,2.8,4.1,1.3,Iris-versicolor\n",
      "101,6.3,3.3,6,2.5,Iris-virginica\n",
      "102,5.8,2.7,5.1,1.9,Iris-virginica\n",
      "103,7.1,3,5.9,2.1,Iris-virginica\n",
      "104,6.3,2.9,5.6,1.8,Iris-virginica\n",
      "105,6.5,3,5.8,2.2,Iris-virginica\n",
      "106,7.6,3,6.6,2.1,Iris-virginica\n",
      "107,4.9,2.5,4.5,1.7,Iris-virginica\n",
      "108,7.3,2.9,6.3,1.8,Iris-virginica\n",
      "109,6.7,2.5,5.8,1.8,Iris-virginica\n",
      "110,7.2,3.6,6.1,2.5,Iris-virginica\n",
      "111,6.5,3.2,5.1,2,Iris-virginica\n",
      "112,6.4,2.7,5.3,1.9,Iris-virginica\n",
      "113,6.8,3,5.5,2.1,Iris-virginica\n",
      "114,5.7,2.5,5,2,Iris-virginica\n",
      "115,5.8,2.8,5.1,2.4,Iris-virginica\n",
      "116,6.4,3.2,5.3,2.3,Iris-virginica\n",
      "117,6.5,3,5.5,1.8,Iris-virginica\n",
      "118,7.7,3.8,6.7,2.2,Iris-virginica\n",
      "119,7.7,2.6,6.9,2.3,Iris-virginica\n",
      "120,6,2.2,5,1.5,Iris-virginica\n",
      "121,6.9,3.2,5.7,2.3,Iris-virginica\n",
      "122,5.6,2.8,4.9,2,Iris-virginica\n",
      "123,7.7,2.8,6.7,2,Iris-virginica\n",
      "124,6.3,2.7,4.9,1.8,Iris-virginica\n",
      "125,6.7,3.3,5.7,2.1,Iris-virginica\n",
      "126,7.2,3.2,6,1.8,Iris-virginica\n",
      "127,6.2,2.8,4.8,1.8,Iris-virginica\n",
      "128,6.1,3,4.9,1.8,Iris-virginica\n",
      "129,6.4,2.8,5.6,2.1,Iris-virginica\n",
      "130,7.2,3,5.8,1.6,Iris-virginica\n",
      "131,7.4,2.8,6.1,1.9,Iris-virginica\n",
      "132,7.9,3.8,6.4,2,Iris-virginica\n",
      "133,6.4,2.8,5.6,2.2,Iris-virginica\n",
      "134,6.3,2.8,5.1,1.5,Iris-virginica\n",
      "135,6.1,2.6,5.6,1.4,Iris-virginica\n",
      "136,7.7,3,6.1,2.3,Iris-virginica\n",
      "137,6.3,3.4,5.6,2.4,Iris-virginica\n",
      "138,6.4,3.1,5.5,1.8,Iris-virginica\n",
      "139,6,3,4.8,1.8,Iris-virginica\n",
      "140,6.9,3.1,5.4,2.1,Iris-virginica\n",
      "141,6.7,3.1,5.6,2.4,Iris-virginica\n",
      "142,6.9,3.1,5.1,2.3,Iris-virginica\n",
      "143,5.8,2.7,5.1,1.9,Iris-virginica\n",
      "144,6.8,3.2,5.9,2.3,Iris-virginica\n",
      "145,6.7,3.3,5.7,2.5,Iris-virginica\n",
      "146,6.7,3,5.2,2.3,Iris-virginica\n",
      "147,6.3,2.5,5,1.9,Iris-virginica\n",
      "148,6.5,3,5.2,2,Iris-virginica\n",
      "149,6.2,3.4,5.4,2.3,Iris-virginica\n",
      "150,5.9,3,5.1,1.8,Iris-virginica\n",
      "151,5.9,3.2,5,1.8,Iris-virginica\n",
      "\n",
      "This is the text that is appended to the file.\n"
     ]
    }
   ],
   "source": [
    "#73)Write a Python program to append text to a file and display the text. \n",
    "# Open the file in append mode and add text\n",
    "with open(\"C:\\\\Users\\\\Dhruvit\\\\Downloads\\\\Iris.csv\", \"a\") as file:\n",
    "    file.write(\"\\nThis is the text that is appended to the file.\")\n",
    "\n",
    "# Open the file in read mode to display the content\n",
    "with open(\"C:\\\\Users\\\\Dhruvit\\\\Downloads\\\\Iris.csv\", \"r\") as file:\n",
    "    content = file.read()\n",
    "\n",
    "# Display the content of the file\n",
    "print(\"Content of the file after appending:\")\n",
    "print(content)\n"
   ]
  },
  {
   "cell_type": "code",
   "execution_count": 56,
   "id": "86bddd7b-5cbe-4064-ae4d-e51b2a67a4fc",
   "metadata": {},
   "outputs": [
    {
     "name": "stdout",
     "output_type": "stream",
     "text": [
      "  Id  SepalLengthCm  SepalWidthCm  PetalLengthCm  PetalWidthCm      Species\n",
      "0  1            5.1           3.5            1.4           0.2  Iris-setosa\n",
      "1  2            4.9           3.0            1.4           0.2  Iris-setosa\n",
      "2  3            4.7           3.2            1.3           0.2  Iris-setosa\n",
      "3  4            4.6           3.1            1.5           0.2  Iris-setosa\n",
      "4  5            5.0           3.6            1.4           0.2  Iris-setosa\n"
     ]
    }
   ],
   "source": [
    "#74)Write a Python program to read first n lines of a file\n",
    "import pandas as pd\n",
    "\n",
    "import matplotlib.pyplot as plt  # Matplotlib's pyplot is used for plotting\n",
    "import seaborn as sns  # Seaborn for statistical plotting\n",
    "\n",
    "\n",
    "# File path with double backslashes\n",
    "file_path = \"C:\\\\Users\\\\Dhruvit\\\\Downloads\\\\Iris.csv\"\n",
    "\n",
    "# Load the CSV file\n",
    "df = pd.read_csv(file_path)\n",
    "\n",
    "print(df.head())"
   ]
  },
  {
   "cell_type": "code",
   "execution_count": 58,
   "id": "300a65c3-e846-4334-bf1b-f9915e6e7bff",
   "metadata": {},
   "outputs": [
    {
     "name": "stdout",
     "output_type": "stream",
     "text": [
      "                                                 Id  SepalLengthCm  \\\n",
      "147                                             148            6.5   \n",
      "148                                             149            6.2   \n",
      "149                                             150            5.9   \n",
      "150                                             151            5.9   \n",
      "151  This is the text that is appended to the file.            NaN   \n",
      "\n",
      "     SepalWidthCm  PetalLengthCm  PetalWidthCm         Species  \n",
      "147           3.0            5.2           2.0  Iris-virginica  \n",
      "148           3.4            5.4           2.3  Iris-virginica  \n",
      "149           3.0            5.1           1.8  Iris-virginica  \n",
      "150           3.2            5.0           1.8  Iris-virginica  \n",
      "151           NaN            NaN           NaN             NaN  \n"
     ]
    }
   ],
   "source": [
    "#75)Write a Python program to read last n lines of a file. \n",
    "print(df.tail())"
   ]
  },
  {
   "cell_type": "code",
   "execution_count": 60,
   "id": "765e667b-be10-4810-8c66-4ef560003c9f",
   "metadata": {},
   "outputs": [
    {
     "name": "stdout",
     "output_type": "stream",
     "text": [
      "Contents of the file stored in the list:\n",
      "Id,SepalLengthCm,SepalWidthCm,PetalLengthCm,PetalWidthCm,Species\n",
      "1,5.1,3.5,1.4,0.2,Iris-setosa\n",
      "2,4.9,3,1.4,0.2,Iris-setosa\n",
      "3,4.7,3.2,1.3,0.2,Iris-setosa\n",
      "4,4.6,3.1,1.5,0.2,Iris-setosa\n",
      "5,5,3.6,1.4,0.2,Iris-setosa\n",
      "6,5.4,3.9,1.7,0.4,Iris-setosa\n",
      "7,4.6,3.4,1.4,0.3,Iris-setosa\n",
      "8,5,3.4,1.5,0.2,Iris-setosa\n",
      "9,4.4,2.9,1.4,0.2,Iris-setosa\n",
      "10,4.9,3.1,1.5,0.1,Iris-setosa\n",
      "11,5.4,3.7,1.5,0.2,Iris-setosa\n",
      "12,4.8,3.4,1.6,0.2,Iris-setosa\n",
      "13,4.8,3,1.4,0.1,Iris-setosa\n",
      "14,4.3,3,1.1,0.1,Iris-setosa\n",
      "15,5.8,4,1.2,0.2,Iris-setosa\n",
      "16,5.7,4.4,1.5,0.4,Iris-setosa\n",
      "17,5.4,3.9,1.3,0.4,Iris-setosa\n",
      "18,5.1,3.5,1.4,0.3,Iris-setosa\n",
      "19,5.7,3.8,1.7,0.3,Iris-setosa\n",
      "20,5.1,3.8,1.5,0.3,Iris-setosa\n",
      "21,5.4,3.4,1.7,0.2,Iris-setosa\n",
      "22,5.1,3.7,1.5,0.4,Iris-setosa\n",
      "23,4.6,3.6,1,0.2,Iris-setosa\n",
      "24,5.1,3.3,1.7,0.5,Iris-setosa\n",
      "25,4.8,3.4,1.9,0.2,Iris-setosa\n",
      "26,5,3,1.6,0.2,Iris-setosa\n",
      "27,5,3.4,1.6,0.4,Iris-setosa\n",
      "28,5.2,3.5,1.5,0.2,Iris-setosa\n",
      "29,5.2,3.4,1.4,0.2,Iris-setosa\n",
      "30,4.7,3.2,1.6,0.2,Iris-setosa\n",
      "31,4.8,3.1,1.6,0.2,Iris-setosa\n",
      "32,5.4,3.4,1.5,0.4,Iris-setosa\n",
      "33,5.2,4.1,1.5,0.1,Iris-setosa\n",
      "34,5.5,4.2,1.4,0.2,Iris-setosa\n",
      "35,4.9,3.1,1.5,0.1,Iris-setosa\n",
      "36,5,3.2,1.2,0.2,Iris-setosa\n",
      "37,5.5,3.5,1.3,0.2,Iris-setosa\n",
      "38,4.9,3.1,1.5,0.1,Iris-setosa\n",
      "39,4.4,3,1.3,0.2,Iris-setosa\n",
      "40,5.1,3.4,1.5,0.2,Iris-setosa\n",
      "41,5,3.5,1.3,0.3,Iris-setosa\n",
      "42,4.5,2.3,1.3,0.3,Iris-setosa\n",
      "43,4.4,3.2,1.3,0.2,Iris-setosa\n",
      "44,5,3.5,1.6,0.6,Iris-setosa\n",
      "45,5.1,3.8,1.9,0.4,Iris-setosa\n",
      "46,4.8,3,1.4,0.3,Iris-setosa\n",
      "47,5.1,3.8,1.6,0.2,Iris-setosa\n",
      "48,4.6,3.2,1.4,0.2,Iris-setosa\n",
      "49,5.3,3.7,1.5,0.2,Iris-setosa\n",
      "50,5,3.3,1.4,0.2,Iris-setosa\n",
      "51,7,3.2,4.7,1.4,Iris-versicolor\n",
      "52,6.4,3.2,4.5,1.5,Iris-versicolor\n",
      "53,6.9,3.1,4.9,1.5,Iris-versicolor\n",
      "54,5.5,2.3,4,1.3,Iris-versicolor\n",
      "55,6.5,2.8,4.6,1.5,Iris-versicolor\n",
      "56,5.7,2.8,4.5,1.3,Iris-versicolor\n",
      "57,6.3,3.3,4.7,1.6,Iris-versicolor\n",
      "58,4.9,2.4,3.3,1,Iris-versicolor\n",
      "59,6.6,2.9,4.6,1.3,Iris-versicolor\n",
      "60,5.2,2.7,3.9,1.4,Iris-versicolor\n",
      "61,5,2,3.5,1,Iris-versicolor\n",
      "62,5.9,3,4.2,1.5,Iris-versicolor\n",
      "63,6,2.2,4,1,Iris-versicolor\n",
      "64,6.1,2.9,4.7,1.4,Iris-versicolor\n",
      "65,5.6,2.9,3.6,1.3,Iris-versicolor\n",
      "66,6.7,3.1,4.4,1.4,Iris-versicolor\n",
      "67,5.6,3,4.5,1.5,Iris-versicolor\n",
      "68,5.8,2.7,4.1,1,Iris-versicolor\n",
      "69,6.2,2.2,4.5,1.5,Iris-versicolor\n",
      "70,5.6,2.5,3.9,1.1,Iris-versicolor\n",
      "71,5.9,3.2,4.8,1.8,Iris-versicolor\n",
      "72,6.1,2.8,4,1.3,Iris-versicolor\n",
      "73,6.3,2.5,4.9,1.5,Iris-versicolor\n",
      "74,6.1,2.8,4.7,1.2,Iris-versicolor\n",
      "75,6.4,2.9,4.3,1.3,Iris-versicolor\n",
      "76,6.6,3,4.4,1.4,Iris-versicolor\n",
      "77,6.8,2.8,4.8,1.4,Iris-versicolor\n",
      "78,6.7,3,5,1.7,Iris-versicolor\n",
      "79,6,2.9,4.5,1.5,Iris-versicolor\n",
      "80,5.7,2.6,3.5,1,Iris-versicolor\n",
      "81,5.5,2.4,3.8,1.1,Iris-versicolor\n",
      "82,5.5,2.4,3.7,1,Iris-versicolor\n",
      "83,5.8,2.7,3.9,1.2,Iris-versicolor\n",
      "84,6,2.7,5.1,1.6,Iris-versicolor\n",
      "85,5.4,3,4.5,1.5,Iris-versicolor\n",
      "86,6,3.4,4.5,1.6,Iris-versicolor\n",
      "87,6.7,3.1,4.7,1.5,Iris-versicolor\n",
      "88,6.3,2.3,4.4,1.3,Iris-versicolor\n",
      "89,5.6,3,4.1,1.3,Iris-versicolor\n",
      "90,5.5,2.5,4,1.3,Iris-versicolor\n",
      "91,5.5,2.6,4.4,1.2,Iris-versicolor\n",
      "92,6.1,3,4.6,1.4,Iris-versicolor\n",
      "93,5.8,2.6,4,1.2,Iris-versicolor\n",
      "94,5,2.3,3.3,1,Iris-versicolor\n",
      "95,5.6,2.7,4.2,1.3,Iris-versicolor\n",
      "96,5.7,3,4.2,1.2,Iris-versicolor\n",
      "97,5.7,2.9,4.2,1.3,Iris-versicolor\n",
      "98,6.2,2.9,4.3,1.3,Iris-versicolor\n",
      "99,5.1,2.5,3,1.1,Iris-versicolor\n",
      "100,5.7,2.8,4.1,1.3,Iris-versicolor\n",
      "101,6.3,3.3,6,2.5,Iris-virginica\n",
      "102,5.8,2.7,5.1,1.9,Iris-virginica\n",
      "103,7.1,3,5.9,2.1,Iris-virginica\n",
      "104,6.3,2.9,5.6,1.8,Iris-virginica\n",
      "105,6.5,3,5.8,2.2,Iris-virginica\n",
      "106,7.6,3,6.6,2.1,Iris-virginica\n",
      "107,4.9,2.5,4.5,1.7,Iris-virginica\n",
      "108,7.3,2.9,6.3,1.8,Iris-virginica\n",
      "109,6.7,2.5,5.8,1.8,Iris-virginica\n",
      "110,7.2,3.6,6.1,2.5,Iris-virginica\n",
      "111,6.5,3.2,5.1,2,Iris-virginica\n",
      "112,6.4,2.7,5.3,1.9,Iris-virginica\n",
      "113,6.8,3,5.5,2.1,Iris-virginica\n",
      "114,5.7,2.5,5,2,Iris-virginica\n",
      "115,5.8,2.8,5.1,2.4,Iris-virginica\n",
      "116,6.4,3.2,5.3,2.3,Iris-virginica\n",
      "117,6.5,3,5.5,1.8,Iris-virginica\n",
      "118,7.7,3.8,6.7,2.2,Iris-virginica\n",
      "119,7.7,2.6,6.9,2.3,Iris-virginica\n",
      "120,6,2.2,5,1.5,Iris-virginica\n",
      "121,6.9,3.2,5.7,2.3,Iris-virginica\n",
      "122,5.6,2.8,4.9,2,Iris-virginica\n",
      "123,7.7,2.8,6.7,2,Iris-virginica\n",
      "124,6.3,2.7,4.9,1.8,Iris-virginica\n",
      "125,6.7,3.3,5.7,2.1,Iris-virginica\n",
      "126,7.2,3.2,6,1.8,Iris-virginica\n",
      "127,6.2,2.8,4.8,1.8,Iris-virginica\n",
      "128,6.1,3,4.9,1.8,Iris-virginica\n",
      "129,6.4,2.8,5.6,2.1,Iris-virginica\n",
      "130,7.2,3,5.8,1.6,Iris-virginica\n",
      "131,7.4,2.8,6.1,1.9,Iris-virginica\n",
      "132,7.9,3.8,6.4,2,Iris-virginica\n",
      "133,6.4,2.8,5.6,2.2,Iris-virginica\n",
      "134,6.3,2.8,5.1,1.5,Iris-virginica\n",
      "135,6.1,2.6,5.6,1.4,Iris-virginica\n",
      "136,7.7,3,6.1,2.3,Iris-virginica\n",
      "137,6.3,3.4,5.6,2.4,Iris-virginica\n",
      "138,6.4,3.1,5.5,1.8,Iris-virginica\n",
      "139,6,3,4.8,1.8,Iris-virginica\n",
      "140,6.9,3.1,5.4,2.1,Iris-virginica\n",
      "141,6.7,3.1,5.6,2.4,Iris-virginica\n",
      "142,6.9,3.1,5.1,2.3,Iris-virginica\n",
      "143,5.8,2.7,5.1,1.9,Iris-virginica\n",
      "144,6.8,3.2,5.9,2.3,Iris-virginica\n",
      "145,6.7,3.3,5.7,2.5,Iris-virginica\n",
      "146,6.7,3,5.2,2.3,Iris-virginica\n",
      "147,6.3,2.5,5,1.9,Iris-virginica\n",
      "148,6.5,3,5.2,2,Iris-virginica\n",
      "149,6.2,3.4,5.4,2.3,Iris-virginica\n",
      "150,5.9,3,5.1,1.8,Iris-virginica\n",
      "151,5.9,3.2,5,1.8,Iris-virginica\n",
      "\n",
      "This is the text that is appended to the file.\n"
     ]
    }
   ],
   "source": [
    "#76)Write a Python program to read a file line by line and store it into a list \n",
    "# Define the file path\n",
    "file_path = \"C:\\\\Users\\\\Dhruvit\\\\Downloads\\\\Iris.csv\"\n",
    "\n",
    "# Initialize an empty list to store the lines\n",
    "lines_list = []\n",
    "\n",
    "# Open the file and read it line by line\n",
    "with open(file_path, \"r\") as file:\n",
    "    # Loop through each line and append it to the list\n",
    "    lines_list = file.readlines()\n",
    "\n",
    "# Display the content stored in the list\n",
    "print(\"Contents of the file stored in the list:\")\n",
    "for line in lines_list:\n",
    "    print(line.strip())  # Using strip() to remove any extra newlines\n"
   ]
  },
  {
   "cell_type": "code",
   "execution_count": 62,
   "id": "9ce06530-a4da-4d36-82e4-a287834b092d",
   "metadata": {},
   "outputs": [
    {
     "name": "stdout",
     "output_type": "stream",
     "text": [
      "Content of the file stored in the variable:\n",
      "Id,SepalLengthCm,SepalWidthCm,PetalLengthCm,PetalWidthCm,Species\n",
      "1,5.1,3.5,1.4,0.2,Iris-setosa\n",
      "2,4.9,3,1.4,0.2,Iris-setosa\n",
      "3,4.7,3.2,1.3,0.2,Iris-setosa\n",
      "4,4.6,3.1,1.5,0.2,Iris-setosa\n",
      "5,5,3.6,1.4,0.2,Iris-setosa\n",
      "6,5.4,3.9,1.7,0.4,Iris-setosa\n",
      "7,4.6,3.4,1.4,0.3,Iris-setosa\n",
      "8,5,3.4,1.5,0.2,Iris-setosa\n",
      "9,4.4,2.9,1.4,0.2,Iris-setosa\n",
      "10,4.9,3.1,1.5,0.1,Iris-setosa\n",
      "11,5.4,3.7,1.5,0.2,Iris-setosa\n",
      "12,4.8,3.4,1.6,0.2,Iris-setosa\n",
      "13,4.8,3,1.4,0.1,Iris-setosa\n",
      "14,4.3,3,1.1,0.1,Iris-setosa\n",
      "15,5.8,4,1.2,0.2,Iris-setosa\n",
      "16,5.7,4.4,1.5,0.4,Iris-setosa\n",
      "17,5.4,3.9,1.3,0.4,Iris-setosa\n",
      "18,5.1,3.5,1.4,0.3,Iris-setosa\n",
      "19,5.7,3.8,1.7,0.3,Iris-setosa\n",
      "20,5.1,3.8,1.5,0.3,Iris-setosa\n",
      "21,5.4,3.4,1.7,0.2,Iris-setosa\n",
      "22,5.1,3.7,1.5,0.4,Iris-setosa\n",
      "23,4.6,3.6,1,0.2,Iris-setosa\n",
      "24,5.1,3.3,1.7,0.5,Iris-setosa\n",
      "25,4.8,3.4,1.9,0.2,Iris-setosa\n",
      "26,5,3,1.6,0.2,Iris-setosa\n",
      "27,5,3.4,1.6,0.4,Iris-setosa\n",
      "28,5.2,3.5,1.5,0.2,Iris-setosa\n",
      "29,5.2,3.4,1.4,0.2,Iris-setosa\n",
      "30,4.7,3.2,1.6,0.2,Iris-setosa\n",
      "31,4.8,3.1,1.6,0.2,Iris-setosa\n",
      "32,5.4,3.4,1.5,0.4,Iris-setosa\n",
      "33,5.2,4.1,1.5,0.1,Iris-setosa\n",
      "34,5.5,4.2,1.4,0.2,Iris-setosa\n",
      "35,4.9,3.1,1.5,0.1,Iris-setosa\n",
      "36,5,3.2,1.2,0.2,Iris-setosa\n",
      "37,5.5,3.5,1.3,0.2,Iris-setosa\n",
      "38,4.9,3.1,1.5,0.1,Iris-setosa\n",
      "39,4.4,3,1.3,0.2,Iris-setosa\n",
      "40,5.1,3.4,1.5,0.2,Iris-setosa\n",
      "41,5,3.5,1.3,0.3,Iris-setosa\n",
      "42,4.5,2.3,1.3,0.3,Iris-setosa\n",
      "43,4.4,3.2,1.3,0.2,Iris-setosa\n",
      "44,5,3.5,1.6,0.6,Iris-setosa\n",
      "45,5.1,3.8,1.9,0.4,Iris-setosa\n",
      "46,4.8,3,1.4,0.3,Iris-setosa\n",
      "47,5.1,3.8,1.6,0.2,Iris-setosa\n",
      "48,4.6,3.2,1.4,0.2,Iris-setosa\n",
      "49,5.3,3.7,1.5,0.2,Iris-setosa\n",
      "50,5,3.3,1.4,0.2,Iris-setosa\n",
      "51,7,3.2,4.7,1.4,Iris-versicolor\n",
      "52,6.4,3.2,4.5,1.5,Iris-versicolor\n",
      "53,6.9,3.1,4.9,1.5,Iris-versicolor\n",
      "54,5.5,2.3,4,1.3,Iris-versicolor\n",
      "55,6.5,2.8,4.6,1.5,Iris-versicolor\n",
      "56,5.7,2.8,4.5,1.3,Iris-versicolor\n",
      "57,6.3,3.3,4.7,1.6,Iris-versicolor\n",
      "58,4.9,2.4,3.3,1,Iris-versicolor\n",
      "59,6.6,2.9,4.6,1.3,Iris-versicolor\n",
      "60,5.2,2.7,3.9,1.4,Iris-versicolor\n",
      "61,5,2,3.5,1,Iris-versicolor\n",
      "62,5.9,3,4.2,1.5,Iris-versicolor\n",
      "63,6,2.2,4,1,Iris-versicolor\n",
      "64,6.1,2.9,4.7,1.4,Iris-versicolor\n",
      "65,5.6,2.9,3.6,1.3,Iris-versicolor\n",
      "66,6.7,3.1,4.4,1.4,Iris-versicolor\n",
      "67,5.6,3,4.5,1.5,Iris-versicolor\n",
      "68,5.8,2.7,4.1,1,Iris-versicolor\n",
      "69,6.2,2.2,4.5,1.5,Iris-versicolor\n",
      "70,5.6,2.5,3.9,1.1,Iris-versicolor\n",
      "71,5.9,3.2,4.8,1.8,Iris-versicolor\n",
      "72,6.1,2.8,4,1.3,Iris-versicolor\n",
      "73,6.3,2.5,4.9,1.5,Iris-versicolor\n",
      "74,6.1,2.8,4.7,1.2,Iris-versicolor\n",
      "75,6.4,2.9,4.3,1.3,Iris-versicolor\n",
      "76,6.6,3,4.4,1.4,Iris-versicolor\n",
      "77,6.8,2.8,4.8,1.4,Iris-versicolor\n",
      "78,6.7,3,5,1.7,Iris-versicolor\n",
      "79,6,2.9,4.5,1.5,Iris-versicolor\n",
      "80,5.7,2.6,3.5,1,Iris-versicolor\n",
      "81,5.5,2.4,3.8,1.1,Iris-versicolor\n",
      "82,5.5,2.4,3.7,1,Iris-versicolor\n",
      "83,5.8,2.7,3.9,1.2,Iris-versicolor\n",
      "84,6,2.7,5.1,1.6,Iris-versicolor\n",
      "85,5.4,3,4.5,1.5,Iris-versicolor\n",
      "86,6,3.4,4.5,1.6,Iris-versicolor\n",
      "87,6.7,3.1,4.7,1.5,Iris-versicolor\n",
      "88,6.3,2.3,4.4,1.3,Iris-versicolor\n",
      "89,5.6,3,4.1,1.3,Iris-versicolor\n",
      "90,5.5,2.5,4,1.3,Iris-versicolor\n",
      "91,5.5,2.6,4.4,1.2,Iris-versicolor\n",
      "92,6.1,3,4.6,1.4,Iris-versicolor\n",
      "93,5.8,2.6,4,1.2,Iris-versicolor\n",
      "94,5,2.3,3.3,1,Iris-versicolor\n",
      "95,5.6,2.7,4.2,1.3,Iris-versicolor\n",
      "96,5.7,3,4.2,1.2,Iris-versicolor\n",
      "97,5.7,2.9,4.2,1.3,Iris-versicolor\n",
      "98,6.2,2.9,4.3,1.3,Iris-versicolor\n",
      "99,5.1,2.5,3,1.1,Iris-versicolor\n",
      "100,5.7,2.8,4.1,1.3,Iris-versicolor\n",
      "101,6.3,3.3,6,2.5,Iris-virginica\n",
      "102,5.8,2.7,5.1,1.9,Iris-virginica\n",
      "103,7.1,3,5.9,2.1,Iris-virginica\n",
      "104,6.3,2.9,5.6,1.8,Iris-virginica\n",
      "105,6.5,3,5.8,2.2,Iris-virginica\n",
      "106,7.6,3,6.6,2.1,Iris-virginica\n",
      "107,4.9,2.5,4.5,1.7,Iris-virginica\n",
      "108,7.3,2.9,6.3,1.8,Iris-virginica\n",
      "109,6.7,2.5,5.8,1.8,Iris-virginica\n",
      "110,7.2,3.6,6.1,2.5,Iris-virginica\n",
      "111,6.5,3.2,5.1,2,Iris-virginica\n",
      "112,6.4,2.7,5.3,1.9,Iris-virginica\n",
      "113,6.8,3,5.5,2.1,Iris-virginica\n",
      "114,5.7,2.5,5,2,Iris-virginica\n",
      "115,5.8,2.8,5.1,2.4,Iris-virginica\n",
      "116,6.4,3.2,5.3,2.3,Iris-virginica\n",
      "117,6.5,3,5.5,1.8,Iris-virginica\n",
      "118,7.7,3.8,6.7,2.2,Iris-virginica\n",
      "119,7.7,2.6,6.9,2.3,Iris-virginica\n",
      "120,6,2.2,5,1.5,Iris-virginica\n",
      "121,6.9,3.2,5.7,2.3,Iris-virginica\n",
      "122,5.6,2.8,4.9,2,Iris-virginica\n",
      "123,7.7,2.8,6.7,2,Iris-virginica\n",
      "124,6.3,2.7,4.9,1.8,Iris-virginica\n",
      "125,6.7,3.3,5.7,2.1,Iris-virginica\n",
      "126,7.2,3.2,6,1.8,Iris-virginica\n",
      "127,6.2,2.8,4.8,1.8,Iris-virginica\n",
      "128,6.1,3,4.9,1.8,Iris-virginica\n",
      "129,6.4,2.8,5.6,2.1,Iris-virginica\n",
      "130,7.2,3,5.8,1.6,Iris-virginica\n",
      "131,7.4,2.8,6.1,1.9,Iris-virginica\n",
      "132,7.9,3.8,6.4,2,Iris-virginica\n",
      "133,6.4,2.8,5.6,2.2,Iris-virginica\n",
      "134,6.3,2.8,5.1,1.5,Iris-virginica\n",
      "135,6.1,2.6,5.6,1.4,Iris-virginica\n",
      "136,7.7,3,6.1,2.3,Iris-virginica\n",
      "137,6.3,3.4,5.6,2.4,Iris-virginica\n",
      "138,6.4,3.1,5.5,1.8,Iris-virginica\n",
      "139,6,3,4.8,1.8,Iris-virginica\n",
      "140,6.9,3.1,5.4,2.1,Iris-virginica\n",
      "141,6.7,3.1,5.6,2.4,Iris-virginica\n",
      "142,6.9,3.1,5.1,2.3,Iris-virginica\n",
      "143,5.8,2.7,5.1,1.9,Iris-virginica\n",
      "144,6.8,3.2,5.9,2.3,Iris-virginica\n",
      "145,6.7,3.3,5.7,2.5,Iris-virginica\n",
      "146,6.7,3,5.2,2.3,Iris-virginica\n",
      "147,6.3,2.5,5,1.9,Iris-virginica\n",
      "148,6.5,3,5.2,2,Iris-virginica\n",
      "149,6.2,3.4,5.4,2.3,Iris-virginica\n",
      "150,5.9,3,5.1,1.8,Iris-virginica\n",
      "151,5.9,3.2,5,1.8,Iris-virginica\n",
      "\n",
      "This is the text that is appended to the file.\n"
     ]
    }
   ],
   "source": [
    "#77)Write a Python program to read a file line by line store it into a variable\n",
    "# Define the file path\n",
    "file_path = \"C:\\\\Users\\\\Dhruvit\\\\Downloads\\\\Iris.csv\"\n",
    "\n",
    "# Initialize an empty string to store the content\n",
    "file_content = \"\"\n",
    "\n",
    "# Open the file and read it line by line\n",
    "with open(file_path, \"r\") as file:\n",
    "    # Loop through each line and append it to the file_content variable\n",
    "    for line in file:\n",
    "        file_content += line\n",
    "\n",
    "# Display the content stored in the variable\n",
    "print(\"Content of the file stored in the variable:\")\n",
    "print(file_content)\n"
   ]
  },
  {
   "cell_type": "code",
   "execution_count": 64,
   "id": "0fe268cc-88d1-4adc-92b2-54b9351e7574",
   "metadata": {},
   "outputs": [
    {
     "name": "stdout",
     "output_type": "stream",
     "text": [
      "The longest word(s): ['programming']\n"
     ]
    }
   ],
   "source": [
    "#78)Write a python program to find the longest words. \n",
    "def find_longest_words(text):\n",
    "    # Split the text into words\n",
    "    words = text.split()\n",
    "    \n",
    "    # Find the length of the longest word\n",
    "    max_length = max(len(word) for word in words)\n",
    "    \n",
    "    # Find all words that are of the longest length\n",
    "    longest_words = [word for word in words if len(word) == max_length]\n",
    "    \n",
    "    return longest_words\n",
    "\n",
    "# Example text\n",
    "text = \"Python is an amazing programming language, and it is also quite versatile.\"\n",
    "\n",
    "# Find the longest words\n",
    "longest_words = find_longest_words(text)\n",
    "\n",
    "# Display the longest word(s)\n",
    "print(\"The longest word(s):\", longest_words)\n"
   ]
  },
  {
   "cell_type": "code",
   "execution_count": 66,
   "id": "f40d438e-277b-490a-b3ba-e396000037fb",
   "metadata": {},
   "outputs": [
    {
     "name": "stdout",
     "output_type": "stream",
     "text": [
      "The number of lines in the file: 154\n"
     ]
    }
   ],
   "source": [
    "#79)Write a Python program to count the number of lines in a text file. \n",
    "# Define the file path\n",
    "file_path = \"C:\\\\Users\\\\Dhruvit\\\\Downloads\\\\Iris.csv\"\n",
    "\n",
    "# Initialize a counter for the number of lines\n",
    "line_count = 0\n",
    "\n",
    "# Open the file and read it line by line\n",
    "with open(file_path, \"r\") as file:\n",
    "    for line in file:\n",
    "        line_count += 1  # Increment the counter for each line\n",
    "\n",
    "# Display the number of lines\n",
    "print(f\"The number of lines in the file: {line_count}\")\n"
   ]
  },
  {
   "cell_type": "code",
   "execution_count": 68,
   "id": "ac8bb7ce-7eaf-4430-af2c-62ac380472d9",
   "metadata": {},
   "outputs": [
    {
     "name": "stdout",
     "output_type": "stream",
     "text": [
      "Word Frequency in the file:\n",
      "id: 1\n",
      "sepallengthcm: 1\n",
      "sepalwidthcm: 1\n",
      "petallengthcm: 1\n",
      "petalwidthcm: 1\n",
      "species: 1\n",
      "1: 182\n",
      "5: 169\n",
      "3: 166\n",
      "4: 140\n",
      "0: 50\n",
      "2: 160\n",
      "iris: 151\n",
      "setosa: 50\n",
      "9: 46\n",
      "7: 65\n",
      "6: 110\n",
      "8: 57\n",
      "10: 1\n",
      "11: 1\n",
      "12: 1\n",
      "13: 1\n",
      "14: 1\n",
      "15: 1\n",
      "16: 1\n",
      "17: 1\n",
      "18: 1\n",
      "19: 1\n",
      "20: 1\n",
      "21: 1\n",
      "22: 1\n",
      "23: 1\n",
      "24: 1\n",
      "25: 1\n",
      "26: 1\n",
      "27: 1\n",
      "28: 1\n",
      "29: 1\n",
      "30: 1\n",
      "31: 1\n",
      "32: 1\n",
      "33: 1\n",
      "34: 1\n",
      "35: 1\n",
      "36: 1\n",
      "37: 1\n",
      "38: 1\n",
      "39: 1\n",
      "40: 1\n",
      "41: 1\n",
      "42: 1\n",
      "43: 1\n",
      "44: 1\n",
      "45: 1\n",
      "46: 1\n",
      "47: 1\n",
      "48: 1\n",
      "49: 1\n",
      "50: 1\n",
      "51: 1\n",
      "versicolor: 50\n",
      "52: 1\n",
      "53: 1\n",
      "54: 1\n",
      "55: 1\n",
      "56: 1\n",
      "57: 1\n",
      "58: 1\n",
      "59: 1\n",
      "60: 1\n",
      "61: 1\n",
      "62: 1\n",
      "63: 1\n",
      "64: 1\n",
      "65: 1\n",
      "66: 1\n",
      "67: 1\n",
      "68: 1\n",
      "69: 1\n",
      "70: 1\n",
      "71: 1\n",
      "72: 1\n",
      "73: 1\n",
      "74: 1\n",
      "75: 1\n",
      "76: 1\n",
      "77: 1\n",
      "78: 1\n",
      "79: 1\n",
      "80: 1\n",
      "81: 1\n",
      "82: 1\n",
      "83: 1\n",
      "84: 1\n",
      "85: 1\n",
      "86: 1\n",
      "87: 1\n",
      "88: 1\n",
      "89: 1\n",
      "90: 1\n",
      "91: 1\n",
      "92: 1\n",
      "93: 1\n",
      "94: 1\n",
      "95: 1\n",
      "96: 1\n",
      "97: 1\n",
      "98: 1\n",
      "99: 1\n",
      "100: 1\n",
      "101: 1\n",
      "virginica: 51\n",
      "102: 1\n",
      "103: 1\n",
      "104: 1\n",
      "105: 1\n",
      "106: 1\n",
      "107: 1\n",
      "108: 1\n",
      "109: 1\n",
      "110: 1\n",
      "111: 1\n",
      "112: 1\n",
      "113: 1\n",
      "114: 1\n",
      "115: 1\n",
      "116: 1\n",
      "117: 1\n",
      "118: 1\n",
      "119: 1\n",
      "120: 1\n",
      "121: 1\n",
      "122: 1\n",
      "123: 1\n",
      "124: 1\n",
      "125: 1\n",
      "126: 1\n",
      "127: 1\n",
      "128: 1\n",
      "129: 1\n",
      "130: 1\n",
      "131: 1\n",
      "132: 1\n",
      "133: 1\n",
      "134: 1\n",
      "135: 1\n",
      "136: 1\n",
      "137: 1\n",
      "138: 1\n",
      "139: 1\n",
      "140: 1\n",
      "141: 1\n",
      "142: 1\n",
      "143: 1\n",
      "144: 1\n",
      "145: 1\n",
      "146: 1\n",
      "147: 1\n",
      "148: 1\n",
      "149: 1\n",
      "150: 1\n",
      "151: 1\n",
      "this: 1\n",
      "is: 2\n",
      "the: 2\n",
      "text: 1\n",
      "that: 1\n",
      "appended: 1\n",
      "to: 1\n",
      "file: 1\n"
     ]
    }
   ],
   "source": [
    "#80)Write a Python program to count the frequency of words in a file. \n",
    "from collections import Counter\n",
    "import re\n",
    "\n",
    "# Define the file path\n",
    "file_path = \"C:\\\\Users\\\\Dhruvit\\\\Downloads\\\\Iris.csv\"\n",
    "\n",
    "# Initialize an empty list to store all words\n",
    "words_list = []\n",
    "\n",
    "# Open the file and read it line by line\n",
    "with open(file_path, \"r\") as file:\n",
    "    for line in file:\n",
    "        # Use regular expression to extract words (ignoring punctuation)\n",
    "        words = re.findall(r'\\b\\w+\\b', line.lower())  # Convert to lowercase to count words case-insensitively\n",
    "        words_list.extend(words)\n",
    "\n",
    "# Count the frequency of each word using Counter\n",
    "word_frequency = Counter(words_list)\n",
    "\n",
    "# Display the word frequencies\n",
    "print(\"Word Frequency in the file:\")\n",
    "for word, count in word_frequency.items():\n",
    "    print(f\"{word}: {count}\")\n"
   ]
  },
  {
   "cell_type": "code",
   "execution_count": 70,
   "id": "1ea3acf8-51a1-4330-873c-7ccf850b3a80",
   "metadata": {},
   "outputs": [
    {
     "name": "stdout",
     "output_type": "stream",
     "text": [
      "List has been written to the file.\n"
     ]
    }
   ],
   "source": [
    "#81)Write a Python program to write a list to a file. \n",
    "# Define the list to be written to the file\n",
    "my_list = [\"apple\", \"banana\", \"cherry\", \"date\", \"elderberry\"]\n",
    "\n",
    "# Define the file path\n",
    "file_path = \"C:\\\\Users\\\\Dhruvit\\\\Downloads\\\\fruits.txt\"\n",
    "\n",
    "# Open the file in write mode\n",
    "with open(file_path, \"w\") as file:\n",
    "    # Write each item in the list as a new line in the file\n",
    "    for item in my_list:\n",
    "        file.write(item + \"\\n\")\n",
    "\n",
    "print(\"List has been written to the file.\")\n"
   ]
  },
  {
   "cell_type": "code",
   "execution_count": null,
   "id": "093eca72-3782-4861-921c-813c7378bbc5",
   "metadata": {},
   "outputs": [],
   "source": []
  }
 ],
 "metadata": {
  "kernelspec": {
   "display_name": "Python 3 (ipykernel)",
   "language": "python",
   "name": "python3"
  },
  "language_info": {
   "codemirror_mode": {
    "name": "ipython",
    "version": 3
   },
   "file_extension": ".py",
   "mimetype": "text/x-python",
   "name": "python",
   "nbconvert_exporter": "python",
   "pygments_lexer": "ipython3",
   "version": "3.12.4"
  }
 },
 "nbformat": 4,
 "nbformat_minor": 5
}
