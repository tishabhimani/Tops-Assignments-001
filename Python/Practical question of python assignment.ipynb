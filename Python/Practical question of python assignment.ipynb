{
 "cells": [
  {
   "cell_type": "code",
   "execution_count": 15,
   "id": "decdfbce-33e1-4b7d-a981-c4bea762a1a2",
   "metadata": {},
   "outputs": [
    {
     "name": "stdout",
     "output_type": "stream",
     "text": [
      "Enter Your Number Here:  -53\n"
     ]
    },
    {
     "name": "stdout",
     "output_type": "stream",
     "text": [
      "Number is Negative\n"
     ]
    }
   ],
   "source": [
    "# Q.4 Write a Python program to check if a number is positive, negative or zero.\n",
    "number = int(input(\"Enter Your Number Here: \"))\n",
    "if number >0:\n",
    "    print(\"Number is positive\")\n",
    "if number <0:\n",
    "    print(\"Number is Negative\")\n",
    "if number == 0:\n",
    "    print(\"Number is Zero\")\n",
    "\n"
   ]
  },
  {
   "cell_type": "code",
   "execution_count": null,
   "id": "ea2d84da-c034-4be4-a524-a268d35352b5",
   "metadata": {},
   "outputs": [],
   "source": [
    "### Q.5 Write a Python program to get the Factorial number of given numbers. "
   ]
  },
  {
   "cell_type": "code",
   "execution_count": null,
   "id": "574ed262-5825-4ef0-ae22-c123ab1e399e",
   "metadata": {},
   "outputs": [],
   "source": [
    "### Q.6 Write a Python program to get the Fibonacci series of given range."
   ]
  },
  {
   "cell_type": "code",
   "execution_count": null,
   "id": "a509602e-b517-4e86-b6e5-95421a2bcb28",
   "metadata": {},
   "outputs": [],
   "source": [
    "### Q.9 Write python program that swap two number with temp variable and without temp variable."
   ]
  },
  {
   "cell_type": "code",
   "execution_count": 10,
   "id": "bb14300a-e485-4b35-80e0-e728f201b73d",
   "metadata": {},
   "outputs": [
    {
     "name": "stdout",
     "output_type": "stream",
     "text": [
      "Enter your Number is Here:  5\n"
     ]
    },
    {
     "name": "stdout",
     "output_type": "stream",
     "text": [
      "Number is odd\n"
     ]
    }
   ],
   "source": [
    "# Q.10 Write a Python program to find whether a given number is even or odd, print out an appropriate message to the user.\n",
    "num = int(input(\"Enter your Number is Here: \"))\n",
    "if num%2==0:\n",
    "    print(\"Number is Even\")\n",
    "else:\n",
    "    print(\"Number is odd\")\n"
   ]
  },
  {
   "cell_type": "code",
   "execution_count": 16,
   "id": "8f79fcc7-71f6-4e9a-a58b-7b18c16c73ef",
   "metadata": {},
   "outputs": [
    {
     "name": "stdout",
     "output_type": "stream",
     "text": [
      "Enter Your Letter In Capital Here:  S\n"
     ]
    },
    {
     "name": "stdout",
     "output_type": "stream",
     "text": [
      "Your Letter Is Not Vowel\n"
     ]
    }
   ],
   "source": [
    "# Q.11 Write a Python program to test whether a passed letter is a vowel or not.\n",
    "letter = str(input(\"Enter Your Letter In Capital Here: \"))\n",
    "if letter in \"AEIOU\":\n",
    "   print(\"Your Letter Is Vowel\")\n",
    "else:\n",
    "   print(\"Your Letter Is Not Vowel\")\n",
    "\n",
    "\n"
   ]
  },
  {
   "cell_type": "code",
   "execution_count": 22,
   "id": "a7479931-6252-40ab-a406-d379db498add",
   "metadata": {},
   "outputs": [
    {
     "name": "stdout",
     "output_type": "stream",
     "text": [
      "Enter integer 1 Here:  25\n",
      "Enter integer 2 Here:  25\n",
      "Enter integer 3 Here:  47\n"
     ]
    },
    {
     "name": "stdout",
     "output_type": "stream",
     "text": [
      "Your integer sum is zero\n"
     ]
    }
   ],
   "source": [
    "# Q.12 Write a Python program to sum of three given integers. However, if two values are equal sum will be zero. \n",
    "integer1 =  int(input(\"Enter integer 1 Here: \"))\n",
    "integer2 =  int(input(\"Enter integer 2 Here: \"))\n",
    "integer3 =  int(input(\"Enter integer 3 Here: \"))\n",
    "if integer1==integer2 or integer1==integer3:\n",
    "    print(\"Your integer sum is zero\")\n",
    "else:\n",
    "    sum = integer1+integer2+integer3\n",
    "    print(\"Your integer sum is\",sum)\n"
   ]
  },
  {
   "cell_type": "code",
   "execution_count": 38,
   "id": "8f3bf07c-4d04-40df-8476-80a5b50b7f50",
   "metadata": {},
   "outputs": [
    {
     "name": "stdout",
     "output_type": "stream",
     "text": [
      "Enter integer 1 Here:  5\n",
      "Enter integer 2 Here:  5\n"
     ]
    },
    {
     "name": "stdout",
     "output_type": "stream",
     "text": [
      "True\n"
     ]
    }
   ],
   "source": [
    "# Q.13 Write a Python program that will return true if the two given integer values are equal or their sum or difference is 5.\n",
    "integer1 = int(input(\"Enter integer 1 Here: \"))\n",
    "integer2 = int(input(\"Enter integer 2 Here: \"))\n",
    "if integer1==integer2 or integer1+integer2==5 or integer1-integer2==5:\n",
    "    print(\"True\")\n",
    "else:\n",
    "    print(\"False\")\n"
   ]
  },
  {
   "cell_type": "code",
   "execution_count": 54,
   "id": "6371b506-b1e8-4f37-b20c-e9f6ffb81226",
   "metadata": {},
   "outputs": [
    {
     "name": "stdout",
     "output_type": "stream",
     "text": [
      "Enter Number 1 Here:  45\n",
      "Enter Number 2 Here:  45\n"
     ]
    },
    {
     "name": "stdout",
     "output_type": "stream",
     "text": [
      "Sum of 2 integer is 90\n"
     ]
    },
    {
     "name": "stdout",
     "output_type": "stream",
     "text": [
      "Input a number:  45\n"
     ]
    },
    {
     "name": "stdout",
     "output_type": "stream",
     "text": [
      "Sum of the first 45 positive integers: 1035.0\n"
     ]
    }
   ],
   "source": [
    "### Q.14 Write a python program to sum of the first n positive integers. \n",
    "num1 = int(input(\"Enter Number 1 Here: \"))\n",
    "num2 = int(input(\"Enter Number 2 Here: \"))\n",
    "sum = num1 + num2\n",
    "if sum >0:\n",
    "    print(\"Sum of 2 integer is\",sum)\n",
    "else:\n",
    "    print(\"\")\n",
    "\n",
    "\n",
    "\n",
    "#From goggle\n",
    "n = int(input(\"Input a number: \"))\n",
    "sum_num = (n * (n + 1)) / 2\n",
    "print(\"Sum of the first\", n, \"positive integers:\", sum_num)"
   ]
  },
  {
   "cell_type": "code",
   "execution_count": 70,
   "id": "01e1d4c8-d671-4a52-989c-3c5c7e94883c",
   "metadata": {},
   "outputs": [
    {
     "name": "stdout",
     "output_type": "stream",
     "text": [
      "Enter your sentence here:  I Am A Data Analyst \n"
     ]
    },
    {
     "name": "stdout",
     "output_type": "stream",
     "text": [
      "20\n"
     ]
    }
   ],
   "source": [
    "# Q.15 Write a Python program to calculate the length of a string. \n",
    "sentence = str(input(\"Enter your sentence here: \"))\n",
    "print(len(sentence))\n"
   ]
  },
  {
   "cell_type": "code",
   "execution_count": 19,
   "id": "4056ae10-26be-4c21-b67f-416896541f9b",
   "metadata": {},
   "outputs": [
    {
     "name": "stdout",
     "output_type": "stream",
     "text": [
      "data word repeated time is : 48\n"
     ]
    }
   ],
   "source": [
    "# Q.16 Write a Python program to count the number of characters (character frequency) in a string \n",
    "para = \"A data analyst's day is a whirlwind of numbers trends, and insights. They spend countless hours poring over datasets, searching for patterns and correlations. From analyzing customer behavior to predicting market trends, a data analyst's work is essential to making informed decisions. They use a variety of tools and techniques, such as SQL, Python, and statistical modeling, to extract meaningful information from raw data. Ultimately, their goal is to help businesses understand their data and make data-driven decisions that drive growth and success.\"\n",
    "data_to_count = \"a\"\n",
    "print(\"data word repeated time is :\", para.count(data_to_count))\n"
   ]
  },
  {
   "cell_type": "code",
   "execution_count": 17,
   "id": "dea1e2fa-8c23-41d5-b4b9-c6b5adc9e14b",
   "metadata": {},
   "outputs": [],
   "source": [
    "### Q.18 Write a Python program to count occurrences of a substring in a string. \n"
   ]
  },
  {
   "cell_type": "code",
   "execution_count": 23,
   "id": "07f36a0e-20a9-4e1f-b485-0e21dd6d1c46",
   "metadata": {},
   "outputs": [
    {
     "name": "stdout",
     "output_type": "stream",
     "text": [
      "data word repeated time is : 6\n"
     ]
    }
   ],
   "source": [
    "# Q.19 Write a Python program to count the occurrences of each word in  given sentence given sentence \n",
    "para1 = \"A data analyst's day is a whirlwind of numbers trends, and insights. They spend countless hours poring over datasets, searching for patterns and correlations. From analyzing customer behavior to predicting market trends, a data analyst's work is essential to making informed decisions. They use a variety of tools and techniques, such as SQL, Python, and statistical modeling, to extract meaningful information from raw data. Ultimately, their goal is to help businesses understand their data and make data-driven decisions that drive growth and success.\"\n",
    "data_to_count1 = \"data\"\n",
    "print(\"data word repeated time is :\", para1.count(data_to_count1))"
   ]
  },
  {
   "cell_type": "code",
   "execution_count": null,
   "id": "52c46a6d-48fa-44de-80ec-f74b6c13ea9e",
   "metadata": {},
   "outputs": [],
   "source": [
    "# Q.20 Write a Python program to get a single string from two given strings,separated by a space and swap the first two characters of each string. \n"
   ]
  },
  {
   "cell_type": "code",
   "execution_count": null,
   "id": "d59206c5-d695-455f-871d-8b7d0b003aad",
   "metadata": {},
   "outputs": [],
   "source": [
    "### Q.21 Write a Python program to add 'in' at the end of a given string (length should be at least 3). If the given string already ends with 'ing' then add 'ly' instead if the string length of the given string is less than 3,leave it unchanged. \n",
    "string1 = \"Tisha\"\n",
    "if (len(string1))>=3:\n",
    "    \n"
   ]
  },
  {
   "cell_type": "code",
   "execution_count": 27,
   "id": "31304a11-d314-409b-8808-da6567098988",
   "metadata": {},
   "outputs": [
    {
     "name": "stdout",
     "output_type": "stream",
     "text": [
      "16\n",
      "This is a string\n"
     ]
    }
   ],
   "source": [
    "# Q.22 Write a Python function to reverses a string if its length is a multiple of 4.\n",
    "string = \"This is a string\"\n",
    "print(len(string))\n",
    "if (len(string))%4==0:\n",
    "    print(string)\n",
    " "
   ]
  },
  {
   "cell_type": "code",
   "execution_count": 50,
   "id": "af50e861-5d81-4491-9019-b356011d0e64",
   "metadata": {},
   "outputs": [
    {
     "name": "stdout",
     "output_type": "stream",
     "text": [
      "Enter Number 1 Here:  -45\n",
      "Enter Number 2 Here:  45\n"
     ]
    }
   ],
   "source": [
    "### Q.23 Write a Python program to get a string made of the first 2 and the last 2 chars from a given a string. If the string length is less than 2, return instead of the empty string. \n"
   ]
  },
  {
   "cell_type": "code",
   "execution_count": null,
   "id": "32e177f8-75f2-45e9-b2ff-57b7574accbe",
   "metadata": {},
   "outputs": [],
   "source": []
  },
  {
   "cell_type": "code",
   "execution_count": null,
   "id": "263766ca-1a0f-4b6d-b2a4-1d12d4ac674d",
   "metadata": {},
   "outputs": [],
   "source": []
  },
  {
   "cell_type": "code",
   "execution_count": null,
   "id": "8b4b0e6e-8e7e-45e3-abc7-0e83a574816e",
   "metadata": {},
   "outputs": [],
   "source": []
  }
 ],
 "metadata": {
  "kernelspec": {
   "display_name": "Python 3 (ipykernel)",
   "language": "python",
   "name": "python3"
  },
  "language_info": {
   "codemirror_mode": {
    "name": "ipython",
    "version": 3
   },
   "file_extension": ".py",
   "mimetype": "text/x-python",
   "name": "python",
   "nbconvert_exporter": "python",
   "pygments_lexer": "ipython3",
   "version": "3.12.4"
  }
 },
 "nbformat": 4,
 "nbformat_minor": 5
}
